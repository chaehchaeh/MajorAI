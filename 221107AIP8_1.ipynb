{
  "nbformat": 4,
  "nbformat_minor": 0,
  "metadata": {
    "colab": {
      "provenance": [],
      "collapsed_sections": [],
      "authorship_tag": "ABX9TyNC722M0Yq6VqzoofGVBqFK",
      "include_colab_link": true
    },
    "kernelspec": {
      "name": "python3",
      "display_name": "Python 3"
    },
    "language_info": {
      "name": "python"
    }
  },
  "cells": [
    {
      "cell_type": "markdown",
      "metadata": {
        "id": "view-in-github",
        "colab_type": "text"
      },
      "source": [
        "<a href=\"https://colab.research.google.com/github/chaehchaeh/MajorAI-AIprogramming/blob/main/221107AIP8_1.ipynb\" target=\"_parent\"><img src=\"https://colab.research.google.com/assets/colab-badge.svg\" alt=\"Open In Colab\"/></a>"
      ]
    },
    {
      "cell_type": "code",
      "execution_count": null,
      "metadata": {
        "id": "aXb1Nl8cg-0k"
      },
      "outputs": [],
      "source": []
    },
    {
      "cell_type": "markdown",
      "source": [
        "math 모듈: 수학과 관련된 기능을 가지고 있는 모듈\n",
        "\n",
        "\n",
        "```\n",
        "import math\n",
        "```\n",
        "math 모듈 함수 및 변수 확인: 비주얼 스튜디오 코드의 자동 완성 기능을 통해 확인 가능\n",
        "\n"
      ],
      "metadata": {
        "id": "DtiVaYkYhd2y"
      }
    },
    {
      "cell_type": "code",
      "source": [
        "import math\n",
        "math.sin(1)"
      ],
      "metadata": {
        "colab": {
          "base_uri": "https://localhost:8080/"
        },
        "id": "wvlhs2ZehrdB",
        "outputId": "9648532e-a6ab-405c-f016-a1e9c383b498"
      },
      "execution_count": 1,
      "outputs": [
        {
          "output_type": "execute_result",
          "data": {
            "text/plain": [
              "0.8414709848078965"
            ]
          },
          "metadata": {},
          "execution_count": 1
        }
      ]
    },
    {
      "cell_type": "code",
      "source": [
        "math.floor(2.5)"
      ],
      "metadata": {
        "colab": {
          "base_uri": "https://localhost:8080/"
        },
        "id": "czdbDr93hvGD",
        "outputId": "7fb775d4-0c86-433b-fc1c-2d9460fbaeed"
      },
      "execution_count": 2,
      "outputs": [
        {
          "output_type": "execute_result",
          "data": {
            "text/plain": [
              "2"
            ]
          },
          "metadata": {},
          "execution_count": 2
        }
      ]
    },
    {
      "cell_type": "code",
      "source": [
        "math.ceil(2.5)"
      ],
      "metadata": {
        "colab": {
          "base_uri": "https://localhost:8080/"
        },
        "id": "DWNQv8Vehy1H",
        "outputId": "3462cce5-f33f-462d-b3a3-0e3b9ac86720"
      },
      "execution_count": 3,
      "outputs": [
        {
          "output_type": "execute_result",
          "data": {
            "text/plain": [
              "3"
            ]
          },
          "metadata": {},
          "execution_count": 3
        }
      ]
    },
    {
      "cell_type": "code",
      "source": [],
      "metadata": {
        "id": "JXp7JrqUh0GZ"
      },
      "execution_count": null,
      "outputs": []
    },
    {
      "cell_type": "markdown",
      "source": [
        "###from 구문\n",
        "\n",
        "\n",
        "```\n",
        "from 모듈이름 import 가져오고 싶은 변수 또는 함수\n",
        "```\n",
        "\n",
        "\n"
      ],
      "metadata": {
        "id": "MvrpPB4Rh1hn"
      }
    },
    {
      "cell_type": "code",
      "source": [
        "from math import sin, cos, tan,floor,ceil\n",
        "sin(1)\n",
        "tan(1)"
      ],
      "metadata": {
        "colab": {
          "base_uri": "https://localhost:8080/"
        },
        "id": "rAa2LiLRiAAu",
        "outputId": "e2d69669-1fca-4b5e-84b9-7d6b2deacef4"
      },
      "execution_count": 4,
      "outputs": [
        {
          "output_type": "execute_result",
          "data": {
            "text/plain": [
              "1.5574077246549023"
            ]
          },
          "metadata": {},
          "execution_count": 4
        }
      ]
    },
    {
      "cell_type": "code",
      "source": [],
      "metadata": {
        "id": "x0hZxYP6iEUw"
      },
      "execution_count": null,
      "outputs": []
    },
    {
      "cell_type": "markdown",
      "source": [
        "math 모듈에서 모든 함수와 변수 가져오기: 식별자 이름에서 충돌이 발생할 수 있으므로 주의 필요\n",
        "\n",
        "\n",
        "```\n",
        "from math import *\n",
        "```\n",
        "\n"
      ],
      "metadata": {
        "id": "iHDwB5uAiGLz"
      }
    },
    {
      "cell_type": "markdown",
      "source": [
        "###as 구문\n",
        "\n",
        "\n",
        "```\n",
        "import 모듈 as 사용하고 싶은 식별자\n",
        "```\n",
        "\n"
      ],
      "metadata": {
        "id": "JeNroLtriZpk"
      }
    },
    {
      "cell_type": "code",
      "source": [
        "import math as m\n",
        "m.sin(1)"
      ],
      "metadata": {
        "colab": {
          "base_uri": "https://localhost:8080/"
        },
        "id": "s0GlMH2oiOy2",
        "outputId": "4918cce5-1f17-4440-c965-ffb7db4ec573"
      },
      "execution_count": 5,
      "outputs": [
        {
          "output_type": "execute_result",
          "data": {
            "text/plain": [
              "0.8414709848078965"
            ]
          },
          "metadata": {},
          "execution_count": 5
        }
      ]
    },
    {
      "cell_type": "markdown",
      "source": [
        "##Random모듈\n",
        ":임의의 값을 생성할 때 주로 사용하는 모듈"
      ],
      "metadata": {
        "id": "NusP4YzQill8"
      }
    },
    {
      "cell_type": "code",
      "source": [
        "import random\n",
        "#random 모듈이 제공하는 함수 및 변수 확인: vs코드 이용\n",
        "\n",
        "#https://docs.python.org/3/library/random.html#examples\n"
      ],
      "metadata": {
        "id": "q7dDgcccikj4"
      },
      "execution_count": 8,
      "outputs": []
    },
    {
      "cell_type": "code",
      "source": [
        "import random\n",
        "print(\"# random 모듈\")\n",
        "\n",
        "#random(): 0.0<=x<1.0 사이의 float를 리턴합니다\n",
        "print(\"- random():\", random.random())\n",
        "\n",
        "#uniform(min,max): 지정한 범위 사이의 float를 리턴합니다\n",
        "print(\"- uniform(10,20):\",random.uniform(10,20))\n",
        "\n",
        "#randrange(): 지정한 범위의 int를 리턴합니다\n",
        "#-randrange(max):0부터 max 사이의 값을 리턴합니다\n",
        "#-randrange(min,max): min부터 max 사이의 값을 리턴합니다.\n",
        "print(\"-randomrange(10):\",random.randrange(10))\n",
        "\n",
        "#choice(list): 리스트 내부에 있는 요소를 랜덤하게 선택합니다.\n",
        "print(\"-choice([1,2,3,4,5]):\",random.choice([1,2,3,4,5]))\n",
        "#shuffle(list): 리스트의 요소들을 랜덤하게 섞습니다.\n",
        "print(\"-shuffle([1,2,3,4,5]):\",random.shuffle([1,2,3,4,5]))\n",
        "#sample(list, k=<숫자>): 리스트의 요소 중에 k를 뽑습니다.\n",
        "print(\"-sample([1,2,3,4,5], k=2):\", random.sample([1,2,3,4,5],k=2))"
      ],
      "metadata": {
        "colab": {
          "base_uri": "https://localhost:8080/"
        },
        "id": "qLc5JsK3is7H",
        "outputId": "0083b5e8-fdb9-4f34-dc11-e4e67cdd9324"
      },
      "execution_count": 15,
      "outputs": [
        {
          "output_type": "stream",
          "name": "stdout",
          "text": [
            "# random 모듈\n",
            "- random(): 0.9423566551225152\n",
            "- uniform(10,20): 19.333704237337624\n",
            "-randomrange(10): 3\n",
            "-choice([1,2,3,4,5]): 2\n",
            "-shuffle([1,2,3,4,5]): None\n",
            "-sample([1,2,3,4,5], k=2): [5, 1]\n"
          ]
        }
      ]
    },
    {
      "cell_type": "markdown",
      "source": [
        "###유의사항\n",
        "-파이썬 스크립트 파일명이 사용하고자 하는 모듈과 같을 경우 오류 발생\n",
        "ex) random.py로 저장한 스크립트에서 random모듈을 사용할 경우"
      ],
      "metadata": {
        "id": "P7EJA3r1lBkA"
      }
    },
    {
      "cell_type": "code",
      "source": [
        "#sys모듈: 컴퓨터 시스템과 관련된 정보를 제공하는 모듈\n",
        "\n",
        "#모듈을 읽어 들입니다.\n",
        "import sys\n",
        "\n",
        "print(sys.argv)\n",
        "print(\"---\")\n",
        "\n",
        "print(\"getwindowsversion:()\", sys.getwindowsversion())\n",
        "print(\"---\")\n",
        "print(\"copyright:sys.copyright\")\n",
        "print(\"---\")\n",
        "print(\"version\", sys.version)\n",
        "\n",
        "sys.exit()"
      ],
      "metadata": {
        "colab": {
          "base_uri": "https://localhost:8080/",
          "height": 301
        },
        "id": "9HvkiHVGkHd5",
        "outputId": "78ad76f2-d1f9-4068-df7a-a6eaabaadc2b"
      },
      "execution_count": 17,
      "outputs": [
        {
          "output_type": "stream",
          "name": "stdout",
          "text": [
            "['/usr/local/lib/python3.7/dist-packages/ipykernel_launcher.py', '-f', '/root/.local/share/jupyter/runtime/kernel-6fb816ff-6066-4db9-91bf-f7dcb9cd3518.json']\n",
            "---\n"
          ]
        },
        {
          "output_type": "error",
          "ename": "AttributeError",
          "evalue": "ignored",
          "traceback": [
            "\u001b[0;31m---------------------------------------------------------------------------\u001b[0m",
            "\u001b[0;31mAttributeError\u001b[0m                            Traceback (most recent call last)",
            "\u001b[0;32m<ipython-input-17-aefc02721ec4>\u001b[0m in \u001b[0;36m<module>\u001b[0;34m\u001b[0m\n\u001b[1;32m      7\u001b[0m \u001b[0mprint\u001b[0m\u001b[0;34m(\u001b[0m\u001b[0;34m\"---\"\u001b[0m\u001b[0;34m)\u001b[0m\u001b[0;34m\u001b[0m\u001b[0;34m\u001b[0m\u001b[0m\n\u001b[1;32m      8\u001b[0m \u001b[0;34m\u001b[0m\u001b[0m\n\u001b[0;32m----> 9\u001b[0;31m \u001b[0mprint\u001b[0m\u001b[0;34m(\u001b[0m\u001b[0;34m\"getwindowsversion:()\"\u001b[0m\u001b[0;34m,\u001b[0m \u001b[0msys\u001b[0m\u001b[0;34m.\u001b[0m\u001b[0mgetwindowsversion\u001b[0m\u001b[0;34m(\u001b[0m\u001b[0;34m)\u001b[0m\u001b[0;34m)\u001b[0m\u001b[0;34m\u001b[0m\u001b[0;34m\u001b[0m\u001b[0m\n\u001b[0m\u001b[1;32m     10\u001b[0m \u001b[0mprint\u001b[0m\u001b[0;34m(\u001b[0m\u001b[0;34m\"---\"\u001b[0m\u001b[0;34m)\u001b[0m\u001b[0;34m\u001b[0m\u001b[0;34m\u001b[0m\u001b[0m\n\u001b[1;32m     11\u001b[0m \u001b[0mprint\u001b[0m\u001b[0;34m(\u001b[0m\u001b[0;34m\"copyright:sys.copyright\"\u001b[0m\u001b[0;34m)\u001b[0m\u001b[0;34m\u001b[0m\u001b[0;34m\u001b[0m\u001b[0m\n",
            "\u001b[0;31mAttributeError\u001b[0m: module 'sys' has no attribute 'getwindowsversion'"
          ]
        }
      ]
    },
    {
      "cell_type": "code",
      "source": [
        "#명령 매개변수(10,20,30)을 추가하여 스크립트 실행\n",
        "import sys\n",
        "python module_sys.py 10 20 30"
      ],
      "metadata": {
        "colab": {
          "base_uri": "https://localhost:8080/",
          "height": 136
        },
        "id": "XVTyP5URlpt6",
        "outputId": "710f60a7-170e-4fa5-fe48-fa61ed823064"
      },
      "execution_count": 19,
      "outputs": [
        {
          "output_type": "error",
          "ename": "SyntaxError",
          "evalue": "ignored",
          "traceback": [
            "\u001b[0;36m  File \u001b[0;32m\"<ipython-input-19-c3bb67352389>\"\u001b[0;36m, line \u001b[0;32m3\u001b[0m\n\u001b[0;31m    python module_sys.py 10 20 30\u001b[0m\n\u001b[0m                    ^\u001b[0m\n\u001b[0;31mSyntaxError\u001b[0m\u001b[0;31m:\u001b[0m invalid syntax\n"
          ]
        }
      ]
    },
    {
      "cell_type": "code",
      "source": [
        "#os 모듈: 운영체제와 관련된 기능을 제공하는 모듈\n",
        "\n",
        "import os\n",
        "\n",
        "print(\"현재 운영체제:\",os.name)\n",
        "print(\"현재 폴더:\",os.getcwd())\n",
        "print(\"현재 폴더 내부의 요소:\",os.listdir())\n",
        "\n",
        "os.mkdir(\"hello\")\n",
        "os.rmdir(\"hello\")\n",
        "\n",
        "with open(\"original.txt\",\"w\") as file:\n",
        "    file.write(\"hello\")\n",
        "os.rename(\"original.txt\",\"new.txt\")\n",
        "\n",
        "os.remove(\"new.txt\")\n",
        "\n",
        "os.system(\"dir\")"
      ],
      "metadata": {
        "colab": {
          "base_uri": "https://localhost:8080/"
        },
        "id": "F9uZlPQAmMzp",
        "outputId": "41a2037e-d52d-4474-cc65-47202b95f0b2"
      },
      "execution_count": 21,
      "outputs": [
        {
          "output_type": "stream",
          "name": "stdout",
          "text": [
            "현재 운영체제: posix\n",
            "현재 폴더: /content\n",
            "현재 폴더 내부의 요소: ['.config', 'sample_data']\n"
          ]
        },
        {
          "output_type": "execute_result",
          "data": {
            "text/plain": [
              "0"
            ]
          },
          "metadata": {},
          "execution_count": 21
        }
      ]
    },
    {
      "cell_type": "markdown",
      "source": [
        "##datetime모듈\n",
        "###datetime 모듈: 날짜 시간에 관련된 모듈"
      ],
      "metadata": {
        "id": "rjPWuFMlncNH"
      }
    },
    {
      "cell_type": "code",
      "source": [
        "#예제: 현재 날짜, 시간 출력\n",
        "\n",
        "#모듈을 읽어 들입니다\n",
        "import datetime\n",
        "#현재 시각을 구하고 출력하기\n",
        "print(\"#현재 시각 출력하기\")\n",
        "now=datetime.datetime.now()\n",
        "print(now.year,\"년\")\n",
        "print(now.month,\"월\")\n",
        "print(now.day,\"일\")\n",
        "print(now.hour,\"시\")\n",
        "print(now.minute,\"분\")\n",
        "print(now.second,\"초\")\n",
        "print()\n",
        "#시간 출력 방법\n",
        "print(\"#시간을 포맷에 맞춰 출력하기\")\n",
        "output_a=now.strftime(\"%Y.%m.%d %H:%M:%S\")\n",
        "output_b=\"{}년 {}월 {}일 {}시 {}분 {}초\".format(now.year,\\ \n",
        "                                          now.month,\\\n",
        "                                          now.day, \n",
        "                                          \\now.hour, \n",
        "                                          \\now.minute, \n",
        "                                          \\now.second)\n",
        "output_c=now.strftime(\"%Y{} %m{} %d{} %H{} %M{} %S{}\").format(*\"년월일시분초\")#문자열,리스트 등 앞에 *을 붙이면 요소 하나하나가 매개변수로 지정됩니다\n",
        "print(output_a)\n",
        "print(output_b)\n",
        "print(output_c)"
      ],
      "metadata": {
        "colab": {
          "base_uri": "https://localhost:8080/",
          "height": 136
        },
        "id": "_au-iro8mYmA",
        "outputId": "927f2f58-537a-4614-bc70-700df5c3411b"
      },
      "execution_count": 28,
      "outputs": [
        {
          "output_type": "error",
          "ename": "SyntaxError",
          "evalue": "ignored",
          "traceback": [
            "\u001b[0;36m  File \u001b[0;32m\"<ipython-input-28-560a23a260a5>\"\u001b[0;36m, line \u001b[0;32m18\u001b[0m\n\u001b[0;31m    output_b=\"{}년 {}월 {}일 {}시 {}분 {}초\".format(now.year,\\\u001b[0m\n\u001b[0m                                                         ^\u001b[0m\n\u001b[0;31mSyntaxError\u001b[0m\u001b[0;31m:\u001b[0m unexpected character after line continuation character\n"
          ]
        }
      ]
    },
    {
      "cell_type": "code",
      "source": [
        "#예제코드: 시간처리\n",
        "import datetime\n",
        "now=datetime.datetime.now()\n",
        "\n",
        "print(\"#datetime.timedelta로 시간 더하기\")"
      ],
      "metadata": {
        "colab": {
          "base_uri": "https://localhost:8080/"
        },
        "id": "UZ2xRaX6nUD4",
        "outputId": "8146b589-cb55-47d6-d65d-f511c0b33b4d"
      },
      "execution_count": 29,
      "outputs": [
        {
          "output_type": "stream",
          "name": "stdout",
          "text": [
            "#datetime.timedelta로 시간 더하기\n"
          ]
        }
      ]
    },
    {
      "cell_type": "code",
      "source": [
        "#time모듈: 시간과 관련된 기능 제공\n",
        "import time"
      ],
      "metadata": {
        "id": "J75drI9xpDvj"
      },
      "execution_count": 30,
      "outputs": []
    },
    {
      "cell_type": "code",
      "source": [
        "#urllib모듈: URL을 다루는 라이브러리\n",
        "from urllib import request\n",
        "\n",
        "target=request.urlopen(\"https://google.com\")\n",
        "output=target.read()\n",
        "\n",
        "print(output)"
      ],
      "metadata": {
        "colab": {
          "base_uri": "https://localhost:8080/"
        },
        "id": "4kn66cVmpIsA",
        "outputId": "9b6a450a-dda9-4428-98d2-8317d3c229f7"
      },
      "execution_count": 32,
      "outputs": [
        {
          "output_type": "stream",
          "name": "stdout",
          "text": [
            "b'<!doctype html><html itemscope=\"\" itemtype=\"http://schema.org/WebPage\" lang=\"zh-TW\"><head><meta content=\"text/html; charset=UTF-8\" http-equiv=\"Content-Type\"><meta content=\"/images/branding/googleg/1x/googleg_standard_color_128dp.png\" itemprop=\"image\"><title>Google</title><script nonce=\"UC1f5Irqzr7O6FKTtjsovg\">(function(){window.google={kEI:\\'sFtoY9bLDYa5hwPOv7CACw\\',kEXPI:\\'0,1302536,56873,6059,206,4804,2316,383,246,5,5367,1123753,1197699,380791,16115,28684,22430,1362,12318,17581,4998,13228,3847,10622,22741,5081,1593,1279,2742,149,1103,840,1983,4314,108,3406,606,2023,1777,520,6343,8327,3227,2845,7,5599,27619,552,1851,2614,3783,9359,3,576,4386,2073,804,13320,4,1528,2304,27348,7422,4164,3193,11443,2215,4437,16786,5767,2590,4094,4052,3,3541,1,42154,2,14022,7646,6470,11623,5679,1021,2380,28741,4569,6258,23418,1249,5838,14968,4332,20,7464,445,2,2,1,24626,2006,8155,7381,15970,872,6578,13056,7,1922,5784,23125,3763,10161,3100,3473,8166,4119,1380,700,4,1,2,2,2,2,5337,3316,5263,786,2743,11344,14,82,950,2940,751,201,1867,644,9096,1576,760,1075,1968,3606,1497,3,524,1114,1,10,792,746,3210,107,3275,780,80,279,1265,2,888,3132,334,1066,677,813,1542,550,802,388,578,1120,299,82,565,404,587,544,962,760,70,199,916,5,65,379,7,473,109,37,6,276,7,397,183,609,749,19,214,164,123,1086,12,770,386,84,800,20,404,14,279,224,2,2,1460,417,752,141,56,215,437,7,2,3,242,586,265,255,56,356,1,76,231,347,209,457,442,476,1,940,545,319,334,33,2,386,131,142,283,10,455,410,586,409,319,92,634,1280,11303466,1048,2803376,3311,141,801,19729,1,1,346,2277,149,62,23947996,487,4041656,1964,3094,13578,3406,10284,1034,1846,1483153\\',kBL:\\'ywYK\\'};google.sn=\\'webhp\\';google.kHL=\\'zh-TW\\';})();(function(){\\nvar f=this||self;var h,k=[];function l(a){for(var b;a&&(!a.getAttribute||!(b=a.getAttribute(\"eid\")));)a=a.parentNode;return b||h}function m(a){for(var b=null;a&&(!a.getAttribute||!(b=a.getAttribute(\"leid\")));)a=a.parentNode;return b}\\nfunction n(a,b,c,d,g){var e=\"\";c||-1!==b.search(\"&ei=\")||(e=\"&ei=\"+l(d),-1===b.search(\"&lei=\")&&(d=m(d))&&(e+=\"&lei=\"+d));d=\"\";!c&&f._cshid&&-1===b.search(\"&cshid=\")&&\"slh\"!==a&&(d=\"&cshid=\"+f._cshid);c=c||\"/\"+(g||\"gen_204\")+\"?atyp=i&ct=\"+a+\"&cad=\"+b+e+\"&zx=\"+Date.now()+d;/^http:/i.test(c)&&\"https:\"===window.location.protocol&&(google.ml&&google.ml(Error(\"a\"),!1,{src:c,glmm:1}),c=\"\");return c};h=google.kEI;google.getEI=l;google.getLEI=m;google.ml=function(){return null};google.log=function(a,b,c,d,g){if(c=n(a,b,c,d,g)){a=new Image;var e=k.length;k[e]=a;a.onerror=a.onload=a.onabort=function(){delete k[e]};a.src=c}};google.logUrl=n;}).call(this);(function(){google.y={};google.sy=[];google.x=function(a,b){if(a)var c=a.id;else{do c=Math.random();while(google.y[c])}google.y[c]=[a,b];return!1};google.sx=function(a){google.sy.push(a)};google.lm=[];google.plm=function(a){google.lm.push.apply(google.lm,a)};google.lq=[];google.load=function(a,b,c){google.lq.push([[a],b,c])};google.loadAll=function(a,b){google.lq.push([a,b])};google.bx=!1;google.lx=function(){};}).call(this);google.f={};(function(){\\ndocument.documentElement.addEventListener(\"submit\",function(b){var a;if(a=b.target){var c=a.getAttribute(\"data-submitfalse\");a=\"1\"===c||\"q\"===c&&!a.elements.q.value?!0:!1}else a=!1;a&&(b.preventDefault(),b.stopPropagation())},!0);document.documentElement.addEventListener(\"click\",function(b){var a;a:{for(a=b.target;a&&a!==document.documentElement;a=a.parentElement)if(\"A\"===a.tagName){a=\"1\"===a.getAttribute(\"data-nohref\");break a}a=!1}a&&b.preventDefault()},!0);}).call(this);</script><style>#gbar,#guser{font-size:13px;padding-top:1px !important;}#gbar{height:22px}#guser{padding-bottom:7px !important;text-align:right}.gbh,.gbd{border-top:1px solid #c9d7f1;font-size:1px}.gbh{height:0;position:absolute;top:24px;width:100%}@media all{.gb1{height:22px;margin-right:.5em;vertical-align:top}#gbar{float:left}}a.gb1,a.gb4{text-decoration:underline !important}a.gb1,a.gb4{color:#00c !important}.gbi .gb4{color:#dd8e27 !important}.gbf .gb4{color:#900 !important}\\n</style><style>body,td,a,p,.h{font-family:arial,sans-serif}body{margin:0;overflow-y:scroll}#gog{padding:3px 8px 0}td{line-height:.8em}.gac_m td{line-height:17px}form{margin-bottom:20px}.h{color:#1558d6}em{color:#c5221f;font-style:normal;font-weight:normal}a em{text-decoration:underline}.lst{height:25px;width:496px}.gsfi,.lst{font:18px arial,sans-serif}.gsfs{font:17px arial,sans-serif}.ds{display:inline-box;display:inline-block;margin:3px 0 4px;margin-left:4px}input{font-family:inherit}body{background:#fff;color:#000}a{color:#4b11a8;text-decoration:none}a:hover,a:active{text-decoration:underline}.fl a{color:#1558d6}a:visited{color:#4b11a8}.sblc{padding-top:5px}.sblc a{display:block;margin:2px 0;margin-left:13px;font-size:11px}.lsbb{background:#f8f9fa;border:solid 1px;border-color:#dadce0 #70757a #70757a #dadce0;height:30px}.lsbb{display:block}#WqQANb a{display:inline-block;margin:0 12px}.lsb{background:url(/images/nav_logo229.png) 0 -261px repeat-x;border:none;color:#000;cursor:pointer;height:30px;margin:0;outline:0;font:15px arial,sans-serif;vertical-align:top}.lsb:active{background:#dadce0}.lst:focus{outline:none}</style><script nonce=\"UC1f5Irqzr7O6FKTtjsovg\">(function(){window.google.erd={jsr:1,bv:1684,de:true};\\nvar h=this||self;var k,l=null!=(k=h.mei)?k:1,n,p=null!=(n=h.sdo)?n:!0,q=0,r,t=google.erd,v=t.jsr;google.ml=function(a,b,d,m,e){e=void 0===e?2:e;b&&(r=a&&a.message);if(google.dl)return google.dl(a,e,d),null;if(0>v){window.console&&console.error(a,d);if(-2===v)throw a;b=!1}else b=!a||!a.message||\"Error loading script\"===a.message||q>=l&&!m?!1:!0;if(!b)return null;q++;d=d||{};b=encodeURIComponent;var c=\"/gen_204?atyp=i&ei=\"+b(google.kEI);google.kEXPI&&(c+=\"&jexpid=\"+b(google.kEXPI));c+=\"&srcpg=\"+b(google.sn)+\"&jsr=\"+b(t.jsr)+\"&bver=\"+b(t.bv);var f=a.lineNumber;void 0!==f&&(c+=\"&line=\"+f);var g=\\na.fileName;g&&(0<g.indexOf(\"-extension:/\")&&(e=3),c+=\"&script=\"+b(g),f&&g===window.location.href&&(f=document.documentElement.outerHTML.split(\"\\\\n\")[f],c+=\"&cad=\"+b(f?f.substring(0,300):\"No script found.\")));c+=\"&jsel=\"+e;for(var u in d)c+=\"&\",c+=b(u),c+=\"=\",c+=b(d[u]);c=c+\"&emsg=\"+b(a.name+\": \"+a.message);c=c+\"&jsst=\"+b(a.stack||\"N/A\");12288<=c.length&&(c=c.substr(0,12288));a=c;m||google.log(0,\"\",a);return a};window.onerror=function(a,b,d,m,e){r!==a&&(a=e instanceof Error?e:Error(a),void 0===d||\"lineNumber\"in a||(a.lineNumber=d),void 0===b||\"fileName\"in a||(a.fileName=b),google.ml(a,!1,void 0,!1,\"SyntaxError\"===a.name||\"SyntaxError\"===a.message.substring(0,11)||-1!==a.message.indexOf(\"Script error\")?3:0));r=null;p&&q>=l&&(window.onerror=null)};})();</script></head><body bgcolor=\"#fff\"><script nonce=\"UC1f5Irqzr7O6FKTtjsovg\">(function(){var src=\\'/images/nav_logo229.png\\';var iesg=false;document.body.onload = function(){window.n && window.n();if (document.images){new Image().src=src;}\\nif (!iesg){document.f&&document.f.q.focus();document.gbqf&&document.gbqf.q.focus();}\\n}\\n})();</script><div id=\"mngb\"><div id=gbar><nobr><b class=gb1>&#25628;&#23563;</b> <a class=gb1 href=\"https://www.google.com.tw/imghp?hl=zh-TW&tab=wi\">&#22294;&#29255;</a> <a class=gb1 href=\"https://maps.google.com.tw/maps?hl=zh-TW&tab=wl\">&#22320;&#22294;</a> <a class=gb1 href=\"https://play.google.com/?hl=zh-TW&tab=w8\">Play</a> <a class=gb1 href=\"https://www.youtube.com/?tab=w1\">YouTube</a> <a class=gb1 href=\"https://news.google.com/?tab=wn\">&#26032;&#32862;</a> <a class=gb1 href=\"https://mail.google.com/mail/?tab=wm\">Gmail</a> <a class=gb1 href=\"https://drive.google.com/?tab=wo\">&#38642;&#31471;&#30828;&#30879;</a> <a class=gb1 style=\"text-decoration:none\" href=\"https://www.google.com.tw/intl/zh-TW/about/products?tab=wh\"><u>&#26356;&#22810;</u> &raquo;</a></nobr></div><div id=guser width=100%><nobr><span id=gbn class=gbi></span><span id=gbf class=gbf></span><span id=gbe></span><a href=\"http://www.google.com.tw/history/optout?hl=zh-TW\" class=gb4>&#32178;&#38913;&#35352;&#37636;</a> | <a  href=\"/preferences?hl=zh-TW\" class=gb4>&#35373;&#23450;</a> | <a target=_top id=gb_70 href=\"https://accounts.google.com/ServiceLogin?hl=zh-TW&passive=true&continue=https://www.google.com/&ec=GAZAAQ\" class=gb4>&#30331;&#20837;</a></nobr></div><div class=gbh style=left:0></div><div class=gbh style=right:0></div></div><center><br clear=\"all\" id=\"lgpd\"><div id=\"lga\"><img alt=\"Google\" height=\"92\" src=\"/images/branding/googlelogo/1x/googlelogo_white_background_color_272x92dp.png\" style=\"padding:28px 0 14px\" width=\"272\" id=\"hplogo\"><br><br></div><form action=\"/search\" name=\"f\"><table cellpadding=\"0\" cellspacing=\"0\"><tr valign=\"top\"><td width=\"25%\">&nbsp;</td><td align=\"center\" nowrap=\"\"><input name=\"ie\" value=\"ISO-8859-1\" type=\"hidden\"><input value=\"zh-TW\" name=\"hl\" type=\"hidden\"><input name=\"source\" type=\"hidden\" value=\"hp\"><input name=\"biw\" type=\"hidden\"><input name=\"bih\" type=\"hidden\"><div class=\"ds\" style=\"height:32px;margin:4px 0\"><input class=\"lst\" style=\"margin:0;padding:5px 8px 0 6px;vertical-align:top;color:#000\" autocomplete=\"off\" value=\"\" title=\"Google &#25628;&#23563;\" maxlength=\"2048\" name=\"q\" size=\"57\"></div><br style=\"line-height:0\"><span class=\"ds\"><span class=\"lsbb\"><input class=\"lsb\" value=\"Google &#25628;&#23563;\" name=\"btnG\" type=\"submit\"></span></span><span class=\"ds\"><span class=\"lsbb\"><input class=\"lsb\" id=\"tsuid_1\" value=\"&#22909;&#25163;&#27683;\" name=\"btnI\" type=\"submit\"><script nonce=\"UC1f5Irqzr7O6FKTtjsovg\">(function(){var id=\\'tsuid_1\\';document.getElementById(id).onclick = function(){if (this.form.q.value){this.checked = 1;if (this.form.iflsig)this.form.iflsig.disabled = false;}\\nelse top.location=\\'/doodles/\\';};})();</script><input value=\"AJiK0e8AAAAAY2hpwEzJQQl3AwKUm80l7tYX2aL2o_Zs\" name=\"iflsig\" type=\"hidden\"></span></span></td><td class=\"fl sblc\" align=\"left\" nowrap=\"\" width=\"25%\"><a href=\"/advanced_search?hl=zh-TW&amp;authuser=0\">&#36914;&#38542;&#25628;&#23563;</a></td></tr></table><input id=\"gbv\" name=\"gbv\" type=\"hidden\" value=\"1\"><script nonce=\"UC1f5Irqzr7O6FKTtjsovg\">(function(){var a,b=\"1\";if(document&&document.getElementById)if(\"undefined\"!=typeof XMLHttpRequest)b=\"2\";else if(\"undefined\"!=typeof ActiveXObject){var c,d,e=[\"MSXML2.XMLHTTP.6.0\",\"MSXML2.XMLHTTP.3.0\",\"MSXML2.XMLHTTP\",\"Microsoft.XMLHTTP\"];for(c=0;d=e[c++];)try{new ActiveXObject(d),b=\"2\"}catch(h){}}a=b;if(\"2\"==a&&-1==location.search.indexOf(\"&gbv=2\")){var f=google.gbvu,g=document.getElementById(\"gbv\");g&&(g.value=a);f&&window.setTimeout(function(){location.href=f},0)};}).call(this);</script></form><div id=\"gac_scont\"></div><div style=\"font-size:83%;min-height:3.5em\"><br><div id=\"prm\"><style>.szppmdbYutt__middle-slot-promo{font-size:small;margin-bottom:32px}.szppmdbYutt__middle-slot-promo a.ZIeIlb{display:inline-block;text-decoration:none}.szppmdbYutt__middle-slot-promo img{border:none;margin-right:5px;vertical-align:middle}</style><div class=\"szppmdbYutt__middle-slot-promo\" data-ved=\"0ahUKEwjW47aI8pr7AhWG3GEKHc4fDLAQnIcBCAQ\"><span>&#38617;&#21313;&#19968;&#29305;&#24800;&#28779;&#29105;&#38283;&#36305; </span><a class=\"NKcBbd\" href=\"https://www.google.com/url?q=https://store.google.com/tw/%3Fhl%3Dzh-TW%26utm_source%3Dhpp%26utm_medium%3Dgoogle_oo%26utm_campaign%3DGS201480%26utm_content%3Dzh-tw&amp;source=hpp&amp;id=19032059&amp;ct=3&amp;usg=AOvVaw0PkTpjwFJsGRGE2u-bEZQC&amp;sa=X&amp;ved=0ahUKEwjW47aI8pr7AhWG3GEKHc4fDLAQ8IcBCAU\" rel=\"nofollow\">&#23601;&#22312; Google &#21830;&#24215;</a></div></div></div><span id=\"footer\"><div style=\"font-size:10pt\"><div style=\"margin:19px auto;text-align:center\" id=\"WqQANb\"><a href=\"http://www.google.com.tw/intl/zh-TW/services/\">&#21830;&#26989;&#35299;&#27770;&#26041;&#26696;</a><a href=\"/intl/zh-TW/about.html\">&#38364;&#26044; Google</a><a href=\"https://www.google.com/setprefdomain?prefdom=TW&amp;prev=https://www.google.com.tw/&amp;sig=K_KnrvqAy5Ohge-1WQsVkQUEQkGMg%3D\">Google.com.tw</a></div></div><p style=\"font-size:8pt;color:#70757a\">&copy; 2022 - <a href=\"/intl/zh-TW/policies/privacy/\">&#38577;&#31169;&#27402;</a> - <a href=\"/intl/zh-TW/policies/terms/\">&#26381;&#21209;&#26781;&#27454;</a></p></span></center><script nonce=\"UC1f5Irqzr7O6FKTtjsovg\">(function(){window.google.cdo={height:757,width:1440};(function(){var a=window.innerWidth,b=window.innerHeight;if(!a||!b){var c=window.document,d=\"CSS1Compat\"==c.compatMode?c.documentElement:c.body;a=d.clientWidth;b=d.clientHeight}a&&b&&(a!=google.cdo.width||b!=google.cdo.height)&&google.log(\"\",\"\",\"/client_204?&atyp=i&biw=\"+a+\"&bih=\"+b+\"&ei=\"+google.kEI);}).call(this);})();</script> <script nonce=\"UC1f5Irqzr7O6FKTtjsovg\">(function(){google.xjs={ck:\\'xjs.hp.SFT3mjTrtTM.L.X.O\\',cs:\\'ACT90oGg_U4QJFQeHa37WgSCChntJtpylQ\\',excm:[]};})();</script>  <script nonce=\"UC1f5Irqzr7O6FKTtjsovg\">(function(){var u=\\'/xjs/_/js/k\\\\x3dxjs.hp.en.zb7Ux13A-PQ.O/am\\\\x3dAAB0AgBQAGAB/d\\\\x3d1/ed\\\\x3d1/rs\\\\x3dACT90oEmKAHO8ah66z8-K-k-msmW5r0W8w/m\\\\x3dsb_he,d\\';\\nvar d=this||self,e=function(a){return a};var g;var l=function(a,b){this.g=b===h?a:\"\"};l.prototype.toString=function(){return this.g+\"\"};var h={};\\nfunction n(){var a=u;google.lx=function(){p(a);google.lx=function(){}};google.bx||google.lx()}\\nfunction p(a){google.timers&&google.timers.load&&google.tick&&google.tick(\"load\",\"xjsls\");var b=document;var c=\"SCRIPT\";\"application/xhtml+xml\"===b.contentType&&(c=c.toLowerCase());c=b.createElement(c);if(void 0===g){b=null;var k=d.trustedTypes;if(k&&k.createPolicy){try{b=k.createPolicy(\"goog#html\",{createHTML:e,createScript:e,createScriptURL:e})}catch(q){d.console&&d.console.error(q.message)}g=b}else g=b}a=(b=g)?b.createScriptURL(a):a;a=new l(a,h);c.src=a instanceof l&&a.constructor===l?a.g:\"type_error:TrustedResourceUrl\";var f,m;(f=(a=null==(m=(f=(c.ownerDocument&&c.ownerDocument.defaultView||window).document).querySelector)?void 0:m.call(f,\"script[nonce]\"))?a.nonce||a.getAttribute(\"nonce\")||\"\":\"\")&&c.setAttribute(\"nonce\",f);document.body.appendChild(c);google.psa=!0};google.xjsu=u;setTimeout(function(){n()},0);})();function _DumpException(e){throw e;}\\nfunction _F_installCss(c){}\\n(function(){google.jl={blt:\\'none\\',chnk:0,dw:false,dwu:true,emtn:0,end:0,ine:false,injs:\\'none\\',injt:0,injth:0,injv2:false,lls:\\'default\\',pdt:0,rep:0,snet:true,strt:0,ubm:false,uwp:true};})();(function(){var pmc=\\'{\\\\x22d\\\\x22:{},\\\\x22sb_he\\\\x22:{\\\\x22agen\\\\x22:false,\\\\x22cgen\\\\x22:false,\\\\x22client\\\\x22:\\\\x22heirloom-hp\\\\x22,\\\\x22dh\\\\x22:true,\\\\x22dhqt\\\\x22:true,\\\\x22ds\\\\x22:\\\\x22\\\\x22,\\\\x22ffql\\\\x22:\\\\x22zh-TW\\\\x22,\\\\x22fl\\\\x22:true,\\\\x22host\\\\x22:\\\\x22google.com\\\\x22,\\\\x22isbh\\\\x22:28,\\\\x22jsonp\\\\x22:true,\\\\x22msgs\\\\x22:{\\\\x22cibl\\\\x22:\\\\x22&#28165;&#38500;&#25628;&#23563;\\\\x22,\\\\x22dym\\\\x22:\\\\x22&#20320;&#26159;&#19981;&#26159;&#35201;&#26597;&#65306;\\\\x22,\\\\x22lcky\\\\x22:\\\\x22&#22909;&#25163;&#27683;\\\\x22,\\\\x22lml\\\\x22:\\\\x22&#30637;&#35299;&#35443;&#24773;\\\\x22,\\\\x22oskt\\\\x22:\\\\x22&#36664;&#20837;&#24037;&#20855;\\\\x22,\\\\x22psrc\\\\x22:\\\\x22&#24050;&#24478;&#24744;&#30340;&#12300;\\\\\\\\u003Ca href\\\\x3d\\\\\\\\\\\\x22/history\\\\\\\\\\\\x22\\\\\\\\u003E&#32178;&#38913;&#35352;&#37636;\\\\\\\\u003C/a\\\\\\\\u003E&#12301;&#20013;&#31227;&#38500;&#36889;&#31558;&#25628;&#23563;&#35352;&#37636;\\\\x22,\\\\x22psrl\\\\x22:\\\\x22&#31227;&#38500;\\\\x22,\\\\x22sbit\\\\x22:\\\\x22&#20197;&#22294;&#25628;&#23563;\\\\x22,\\\\x22srch\\\\x22:\\\\x22Google &#25628;&#23563;\\\\x22},\\\\x22ovr\\\\x22:{},\\\\x22pq\\\\x22:\\\\x22\\\\x22,\\\\x22refpd\\\\x22:true,\\\\x22rfs\\\\x22:[],\\\\x22sbas\\\\x22:\\\\x220 3px 8px 0 rgba(0,0,0,0.2),0 0 0 1px rgba(0,0,0,0.08)\\\\x22,\\\\x22sbpl\\\\x22:16,\\\\x22sbpr\\\\x22:16,\\\\x22scd\\\\x22:10,\\\\x22stok\\\\x22:\\\\x22XHS2FQh1HU3O4FULBLqQPgJjWs8\\\\x22,\\\\x22uhde\\\\x22:false}}\\';google.pmc=JSON.parse(pmc);})();</script>        </body></html>'\n"
          ]
        }
      ]
    },
    {
      "cell_type": "code",
      "source": [
        "#오른쪽 수식을 계산하는 코드를 작성하시오\n",
        "import math\n",
        "math.log2(256)+math.log10(1000)"
      ],
      "metadata": {
        "colab": {
          "base_uri": "https://localhost:8080/"
        },
        "id": "pwo5TPUvpXB4",
        "outputId": "b9f96dbb-d601-4c8a-bad8-00cd7ead6625"
      },
      "execution_count": 38,
      "outputs": [
        {
          "output_type": "execute_result",
          "data": {
            "text/plain": [
              "11.0"
            ]
          },
          "metadata": {},
          "execution_count": 38
        }
      ]
    },
    {
      "cell_type": "code",
      "source": [
        "#다음은 현재 디렉토리를 읽어 파일인지 디렉토리인지 구분하는 코드이다\n",
        "#이를 활용하여 재귀적 방법을 통해 현재 폴더 내부의 모든 파일을 탐색하는 아래 코드를 완성하시오\n",
        "import os\n",
        "\n",
        "output=os.listdir(\".\")\n",
        "print(\"os.listdir():\",output)\n",
        "print()\n",
        "\n",
        "print(\"#폴더와 파일 구분하기\")\n",
        "for path in output:\n",
        "    if os.path.isdir(path):\n",
        "        print(\"폴더:\", path)\n",
        "    else:\n",
        "        print(\"파일:\",path)"
      ],
      "metadata": {
        "colab": {
          "base_uri": "https://localhost:8080/"
        },
        "id": "yWCjSNfPpsSx",
        "outputId": "4c55657b-dd65-4c82-e683-e890f333800c"
      },
      "execution_count": 39,
      "outputs": [
        {
          "output_type": "stream",
          "name": "stdout",
          "text": [
            "os.listdir(): ['.config', 'sample_data']\n",
            "\n",
            "#폴더와 파일 구분하기\n",
            "폴더: .config\n",
            "폴더: sample_data\n"
          ]
        }
      ]
    },
    {
      "cell_type": "code",
      "source": [
        "#import os\n",
        "\n",
        "def read_folder(path):\n",
        "    #폴더의 요소 읽어 들이기\n",
        "    output=os.listdir(path)\n",
        "    #폴더의 요소 구분하기\n",
        "    for item in output:\n",
        "        if os.path.isdir(item):\n",
        "            print(\"{}폴더:\".format(item),item)\n",
        "                read_folder(item)\n",
        "        else:w\n",
        "            print(\"파일:\",item)\n",
        "read_folder(\".\")"
      ],
      "metadata": {
        "colab": {
          "base_uri": "https://localhost:8080/"
        },
        "id": "21xd-c7tqkLT",
        "outputId": "8537e8eb-a626-4f17-a6e8-fa29c7b50f19"
      },
      "execution_count": 59,
      "outputs": [
        {
          "output_type": "stream",
          "name": "stdout",
          "text": [
            ".config폴더: .config\n",
            "파일: .last_update_check.json\n",
            "파일: logs\n",
            "파일: .last_survey_prompt.yaml\n",
            "파일: .last_opt_in_prompt.yaml\n",
            "파일: config_sentinel\n",
            "파일: configurations\n",
            "파일: active_config\n",
            "파일: gce\n",
            "파일: hello\n",
            "Untitled Folder폴더: Untitled Folder\n",
            ".ipynb_checkpoints폴더: .ipynb_checkpoints\n",
            "파일: untitled\n",
            "file폴더: file\n",
            ".ipynb_checkpoints폴더: .ipynb_checkpoints\n",
            "파일: Untitled Folder2\n",
            "sample_data폴더: sample_data\n",
            "파일: README.md\n",
            "파일: anscombe.json\n",
            "파일: mnist_train_small.csv\n",
            "파일: california_housing_train.csv\n",
            "파일: mnist_test.csv\n",
            "파일: california_housing_test.csv\n"
          ]
        }
      ]
    },
    {
      "cell_type": "code",
      "source": [],
      "metadata": {
        "id": "A0yNXnfRrSFf"
      },
      "execution_count": null,
      "outputs": []
    }
  ]
}
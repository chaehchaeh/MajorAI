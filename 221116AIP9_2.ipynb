{
  "nbformat": 4,
  "nbformat_minor": 0,
  "metadata": {
    "colab": {
      "provenance": [],
      "authorship_tag": "ABX9TyPOyJTWp/2+xEhZf/I0pLSJ",
      "include_colab_link": true
    },
    "kernelspec": {
      "name": "python3",
      "display_name": "Python 3"
    },
    "language_info": {
      "name": "python"
    }
  },
  "cells": [
    {
      "cell_type": "markdown",
      "metadata": {
        "id": "view-in-github",
        "colab_type": "text"
      },
      "source": [
        "<a href=\"https://colab.research.google.com/github/chaehchaeh/MajorAI-AIprogramming/blob/main/221116AIP9_2.ipynb\" target=\"_parent\"><img src=\"https://colab.research.google.com/assets/colab-badge.svg\" alt=\"Open In Colab\"/></a>"
      ]
    },
    {
      "cell_type": "markdown",
      "source": [
        "##클래스 인스턴스 확인\n",
        "-인스턴스 함수: 객체(인스턴스)가 어떤 클래스로부터 생성되었는지 확인\n",
        "\n",
        "\n",
        "```\n",
        "isinstance(인스턴스, 클래스)\n",
        "```\n",
        "\n"
      ],
      "metadata": {
        "id": "gLXzWZ6x7Lco"
      }
    },
    {
      "cell_type": "code",
      "source": [
        "#클래스를 선언합니다.\n",
        "class Student:\n",
        "    def __init__(self):\n",
        "        pass\n",
        "\n",
        "#학생을 선언합니다.\n",
        "student=Student()\n",
        "\n",
        "#인스턴스 확인하기\n",
        "print(\"isinstance(student,Student):\", isinstance(student,Student))"
      ],
      "metadata": {
        "colab": {
          "base_uri": "https://localhost:8080/"
        },
        "id": "tNCPx3Ro7URE",
        "outputId": "e1ee993d-8bb7-4ef8-d130-4081918893e8"
      },
      "execution_count": 1,
      "outputs": [
        {
          "output_type": "stream",
          "name": "stdout",
          "text": [
            "isinstance(student,Student): True\n"
          ]
        }
      ]
    },
    {
      "cell_type": "code",
      "source": [
        "#클래스 인스턴스 확인 예제코드\n",
        "##학생 클래스를 선언합니다\n",
        "class Student:\n",
        "    def study(self):\n",
        "        print(\"공부를 합니다.\")\n",
        "#선생님 클래스를 선언합니다.\n",
        "class Teacher:\n",
        "    def teach(self):\n",
        "        print(\"학생을 가르칩니다.\")\n",
        "#교실내부의 객체 리스트를 생성합니다.\n",
        "classroom=[Student(),Student(),Teacher(),Student(),Student()]\n",
        "\n",
        "#반복을 적용해서 적절한 함수를 호출하게 합니다.\n",
        "for person in classroom:\n",
        "    if isinstance(person,Student):\n",
        "        person.study()\n",
        "\n",
        "    elif isinstance(person,Teacher):\n",
        "        person.teach()"
      ],
      "metadata": {
        "colab": {
          "base_uri": "https://localhost:8080/"
        },
        "id": "w_xo0Bg17kT9",
        "outputId": "73713ab6-a79f-4d6f-a122-8535f473bbbd"
      },
      "execution_count": 2,
      "outputs": [
        {
          "output_type": "stream",
          "name": "stdout",
          "text": [
            "공부를 합니다.\n",
            "공부를 합니다.\n",
            "학생을 가르칩니다.\n",
            "공부를 합니다.\n",
            "공부를 합니다.\n"
          ]
        }
      ]
    },
    {
      "cell_type": "markdown",
      "source": [
        "###특수한 이름의 메소드\n",
        "파이썬이 제공하는 클래스 내부의 보조함수들: 특수한 상황에 자동으로 호출됨\n",
        "\n",
        "(비주얼 스튜디오 코드를 이용해 확인)"
      ],
      "metadata": {
        "id": "ZuH5XfbO8WAU"
      }
    },
    {
      "cell_type": "markdown",
      "source": [
        "##__str__함수"
      ],
      "metadata": {
        "id": "V7DQUSA08xOt"
      }
    },
    {
      "cell_type": "code",
      "source": [
        "#예제코드: __str__함수 구현\n",
        "#클래스를 선언합니다.\n",
        "class Student:\n",
        "    def __init__(self, name,korean, math, english, science):\n",
        "        self.name=name\n",
        "        self.korean=korean\n",
        "        self.math=math\n",
        "        self.english=english\n",
        "        self.science=science\n",
        "    def get_sum(self):\n",
        "        return self.korean+ self.math+\\\n",
        "        self.english+self.science\n",
        "    def get_average(self):\n",
        "        return self.get_sum()/4\n",
        "    def __str__(self):\n",
        "        return\"{}\\t{}\\t{}\".format(\n",
        "            self.name,\n",
        "            self.get_sum(),\n",
        "            self.get_average()\n",
        "        )\n",
        "\n",
        "students=[\n",
        "    Student(\"윤인성\",97,98,88,95),\n",
        "    Student(\"연하진\",92,98,96,98),\n",
        "    Student(\"구지연\",76,96,94,90),\n",
        "    Student(\"나선주\",98,92,96,92),\n",
        "    Student(\"윤아린\",95,98,98,98),\n",
        "    Student(\"윤명월\",64,88,92,92)\n",
        "\n",
        "]\n",
        "#출력합니다.\n",
        "print(\"이름\",\"총점\",\"평균\",sep=\"\\t\")\n",
        "for student in students:\n",
        "    print(str(student))#str()함수의 매개변수로 넣으면 student의 __str__()함수가 호출됩니다."
      ],
      "metadata": {
        "colab": {
          "base_uri": "https://localhost:8080/"
        },
        "id": "tTmw_WOs8Tn2",
        "outputId": "a12724ca-9c17-458e-8fc0-471a762309b2"
      },
      "execution_count": 6,
      "outputs": [
        {
          "output_type": "stream",
          "name": "stdout",
          "text": [
            "이름\t총점\t평균\n",
            "윤인성\t378\t94.5\n",
            "연하진\t384\t96.0\n",
            "구지연\t356\t89.0\n",
            "나선주\t378\t94.5\n",
            "윤아린\t389\t97.25\n",
            "윤명월\t336\t84.0\n"
          ]
        }
      ]
    },
    {
      "cell_type": "markdown",
      "source": [
        "##크기 비교함수\n",
        "eq(equal): 같다\n",
        "\n",
        "ne(not equal):다르다\n",
        "\n",
        "gt(greater than):크다\n",
        "\n",
        "ge(greater than or equal):크거나 같다\n",
        "\n",
        "lt(less than):작다\n",
        "\n",
        "le(less than or equal):작거나 같다"
      ],
      "metadata": {
        "id": "NFQ4KXWJ-mlR"
      }
    },
    {
      "cell_type": "code",
      "source": [
        "##크기비교함수 예제코드\n",
        "#클래스를 선언합니다.\n",
        "class Student:\n",
        "    def __init__(self,name,korean,math,english,science):\n",
        "        self.name=name\n",
        "        self.korean=korean\n",
        "        self.math=math\n",
        "        self.english=english\n",
        "        self.science=science\n",
        "    def get_sum(self):\n",
        "        return self.korean+self.math +\\\n",
        "            self.english+self.science\n",
        "    def get_average(self):\n",
        "        return self.get_sum()/4\n",
        "    \n",
        "    def __str__(self):\n",
        "        return \"{}\\t{}\\t{}\".format(\n",
        "            self.name,\n",
        "            self.get_sum,\n",
        "            self.get_average()\n",
        "        )\n",
        "    def __eq__(self,value):\n",
        "        return self.get_sum()==value.get_sum()\n",
        "    def __ne__(self,value):\n",
        "        return self.get_sum() != value.get_sum()\n",
        "    def __gt__(self,value):\n",
        "        return self.get_sum() > value.get_sum()\n",
        "    def __ge__(self,value):\n",
        "        return self.get_sum()>=value.get_sum()\n",
        "    def __lt__(self,value):\n",
        "        return self.get_sum()<value.get_sum()\n",
        "    def __le__(self,value):\n",
        "        return self.get_sum()<=value.get_sum()\n",
        "\n",
        "#학생리스트를 선언합니다\n",
        "students=[\n",
        "    Student(\"윤인성\",97,98,88,95),\n",
        "    Student(\"연하진\",92,98,96,98),\n",
        "    Student(\"구지연\",76,96,94,90),\n",
        "    Student(\"나선주\",98,92,96,92),\n",
        "    Student(\"윤아린\",95,98,98,98),\n",
        "    Student(\"윤명월\",64,88,92,92)]\n",
        "\n",
        "#학생을 선언합니다.\n",
        "student_a=Student(\"윤인성\",87,98,88,95)\n",
        "student_b=Student(\"연하진\",92,98,96,98)\n",
        "\n",
        "#출력합니다.\n",
        "print(\"student_a==student_b\", student_a==student_b)\n",
        "print(\"student_a!=student_b\", student_a!=student_b)\n",
        "print(\"student_a>student_b\", student_a>student_b)\n",
        "print(\"student_a>=student_b\", student_a>=student_b)\n",
        "print(\"student_a<student_b\", student_a<student_b)\n",
        "print(\"student_a<=student_b\", student_a<=student_b)"
      ],
      "metadata": {
        "colab": {
          "base_uri": "https://localhost:8080/"
        },
        "id": "6aRLNIIp9T1v",
        "outputId": "5368081f-8d4b-450b-f4b3-4d2091db3db1"
      },
      "execution_count": 13,
      "outputs": [
        {
          "output_type": "stream",
          "name": "stdout",
          "text": [
            "student_a==student_b False\n",
            "student_a!=student_b True\n",
            "student_a>student_b False\n",
            "student_a>=student_b False\n",
            "student_a<student_b True\n",
            "student_a<=student_b True\n"
          ]
        }
      ]
    },
    {
      "cell_type": "markdown",
      "source": [
        "##클래스 변수: 각인스턴스가 갖는 변수가 아닌 클래스 자체의 변수\n",
        "\n",
        "클래스 변수 정의\n",
        "\n",
        "```\n",
        "class 클래스이름:\n",
        "    클래스 변수=값\n",
        "```\n",
        "\n",
        "클래스 변수 접근\n",
        "\n",
        "\n",
        "```\n",
        "클래스 이름.변수 이름\n",
        "```\n",
        "\n",
        "\n",
        "\n"
      ],
      "metadata": {
        "id": "Ibv2MPWNBn5X"
      }
    },
    {
      "cell_type": "code",
      "source": [
        "#클래스 변수 예제 코드:\n",
        "#클래스를 선언합니다.\n",
        "class Student:\n",
        "    count = 0\n",
        "\n",
        "    def __init__(self,name,korean,math,english,science):\n",
        "        #인스턴스 변수 초기화\n",
        "        self.name=name\n",
        "        self.korean=korean\n",
        "        self.math=math\n",
        "        self.englsih=english\n",
        "        self.science=science\n",
        "\n",
        "        Student.count+=1\n",
        "        print(\"{}번째 학생이 생성되었습니다.\".format(Student.count))\n",
        "\n",
        "#학생 리스트를 선언합니다.\n",
        "students=[\n",
        "    Student(\"윤인성\",97,98,88,95),\n",
        "    Student(\"연하진\",92,98,96,98),\n",
        "    Student(\"구지연\",76,96,94,90),\n",
        "    Student(\"나선주\",98,92,96,92),\n",
        "    Student(\"윤아린\",95,98,98,98),\n",
        "    Student(\"윤명월\",64,88,92,92)]\n",
        "\n",
        "#출력합니다.\n",
        "print()\n",
        "print(\"현재 생성된 총 학생 수는 {}명입니다.\". format(Student.count))"
      ],
      "metadata": {
        "colab": {
          "base_uri": "https://localhost:8080/"
        },
        "id": "zfXuys3y_oL9",
        "outputId": "d4c71b01-294d-4ce7-f778-6fc7ad40c358"
      },
      "execution_count": 21,
      "outputs": [
        {
          "output_type": "stream",
          "name": "stdout",
          "text": [
            "1번째 학생이 생성되었습니다.\n",
            "2번째 학생이 생성되었습니다.\n",
            "3번째 학생이 생성되었습니다.\n",
            "4번째 학생이 생성되었습니다.\n",
            "5번째 학생이 생성되었습니다.\n",
            "6번째 학생이 생성되었습니다.\n",
            "\n",
            "현재 생성된 총 학생 수는 6명입니다.\n"
          ]
        }
      ]
    },
    {
      "cell_type": "markdown",
      "source": [
        "###클래스 함수: 클래스 변수와 마찬가지로 클래스가 갖는 함수\n",
        "클래스 함수 정의:데코레이터(@로 시작하는 것)이용\n",
        "\n",
        "\n",
        "```\n",
        "class 클래스 이름:\n",
        "    @classmethod\n",
        "    def 클래스 함수(cls,매개변수):\n",
        "        pass\n",
        "```\n",
        "클래스 함수 호출\n",
        "\n",
        "\n",
        "```\n",
        "클래스 이름.함수 이름(매개변수)\n",
        "```\n",
        "\n",
        "\n",
        "\n"
      ],
      "metadata": {
        "id": "pow6hE5mC7XC"
      }
    },
    {
      "cell_type": "code",
      "source": [
        "#클래스 함수 예제코드:\n",
        "#클래스를 선언합니다.\n",
        "class Student:\n",
        "    #클래스 변수\n",
        "    count=0\n",
        "    students=[]\n",
        "\n",
        "    #클래스 함수\n",
        "    @classmethod\n",
        "    def print(cls):\n",
        "        print(\"-----학생목록-----\")\n",
        "        print(\"이름\\t총점\\t평균\")\n",
        "        for student in cls.students:\n",
        "            print(str(student))\n",
        "        print(\"------ ------- -------\")\n",
        "    #인스턴스함수\n",
        "    def __init__(self,name,korean,math,english,science):\n",
        "        self.name=name\n",
        "        self.korean=korean\n",
        "        self.math=math\n",
        "        self.english=english\n",
        "        self.science=science\n",
        "        Student.count+=1\n",
        "        Student.students.append(self)\n",
        "    def get_sum(self):\n",
        "        return self.korean + self.math+\\\n",
        "            self.english+self.science\n",
        "\n",
        "    def get_average(self):\n",
        "        return self.get_sum()/4\n",
        "    def __str__(self):\n",
        "        return \"{}\\t{}\\t{}\".format(\\\n",
        "                                   self.name,\\\n",
        "                                   self.get_sum(),\\\n",
        "                                   self.get_average())"
      ],
      "metadata": {
        "id": "y0_NzKZ2CU48"
      },
      "execution_count": 36,
      "outputs": []
    },
    {
      "cell_type": "markdown",
      "source": [
        "##가비지 컬렉터(Garbage collector): \n",
        "더 사용할 가능성이 없는 데이터를 메모리에서 제거, __del__함수로 구현"
      ],
      "metadata": {
        "id": "mQKm7OaQEleh"
      }
    },
    {
      "cell_type": "code",
      "source": [
        "##가비지 컬렉터 예제코드1:\n",
        "class Test:\n",
        "    def __init__(self,name):\n",
        "        self.name=name\n",
        "        print(\"{}-생성되었습니다\".format(self.name))\n",
        "    def __del__(self):\n",
        "        print(\"{}-파괴되었습니다.\".format(self.name))\n",
        "Test(\"A\")\n",
        "Test(\"B\")\n",
        "Test(\"C\")"
      ],
      "metadata": {
        "colab": {
          "base_uri": "https://localhost:8080/"
        },
        "id": "CX1ZCuYcEniw",
        "outputId": "79209608-222e-48c8-e066-53d840954173"
      },
      "execution_count": 24,
      "outputs": [
        {
          "output_type": "stream",
          "name": "stdout",
          "text": [
            "A-생성되었습니다\n",
            "A-파괴되었습니다.\n",
            "B-생성되었습니다\n",
            "B-파괴되었습니다.\n",
            "C-생성되었습니다\n"
          ]
        },
        {
          "output_type": "execute_result",
          "data": {
            "text/plain": [
              "<__main__.Test at 0x7fb68e6ddf10>"
            ]
          },
          "metadata": {},
          "execution_count": 24
        }
      ]
    },
    {
      "cell_type": "code",
      "source": [
        "##가비지 컬렉터 예제코드2:\n",
        "class Test:\n",
        "    def __init__(self,name):\n",
        "        self.name=name\n",
        "        print(\"{}-생성되었습니다\".format(self.name))\n",
        "    def __del__(self):\n",
        "        print(\"{}-파괴되었습니다\".format(self.name))\n",
        "\n",
        "a=Test(\"A\")\n",
        "b=Test(\"B\")\n",
        "c=Test(\"C\")"
      ],
      "metadata": {
        "colab": {
          "base_uri": "https://localhost:8080/"
        },
        "id": "y3rtcKOqHKQD",
        "outputId": "79043a32-c97e-420a-fadd-701685fedd33"
      },
      "execution_count": 35,
      "outputs": [
        {
          "output_type": "stream",
          "name": "stdout",
          "text": [
            "A-생성되었습니다\n",
            "B-생성되었습니다\n",
            "C-생성되었습니다\n",
            "A-파괴되었습니다\n",
            "B-파괴되었습니다\n",
            "C-파괴되었습니다\n"
          ]
        }
      ]
    },
    {
      "cell_type": "markdown",
      "source": [
        "##상속\n",
        "상속(inheritance):부모 클래스에서 정의한 변수와 함수를 상속받는 것"
      ],
      "metadata": {
        "id": "Q5tWdvSxEn9y"
      }
    },
    {
      "cell_type": "code",
      "source": [
        "#상속 예제코드:\n",
        "#부모클래스를 선언합니다\n",
        "class Parent:\n",
        "    def __init__(self):\n",
        "        self.value=\"테스트\"\n",
        "        print(\"Parent 클래스의 __init()__ 메소드가 호출되었습니다\")\n",
        "    def test(self):\n",
        "        print(\"Parent 클래스의 test() 메소드입니다.\")\n",
        "\n",
        "#자식 클래스를 선언합니다.\n",
        "class Child(Parent):\n",
        "    def __init__(self):\n",
        "        Parent.__init__(self)\n",
        "        print(\"Child 클래스의 __init()__ 메소드가 호출되었습니다\")\n",
        "\n",
        "#자식 클래스의 인스턴스를 생성하고 부모의 메소드를 호출합니다.\n",
        "child=Child()\n",
        "child.test()\n",
        "print(child.value)"
      ],
      "metadata": {
        "colab": {
          "base_uri": "https://localhost:8080/"
        },
        "id": "29teeTY7Evko",
        "outputId": "f81e8685-84ac-4c91-f746-614eeb90147a"
      },
      "execution_count": 22,
      "outputs": [
        {
          "output_type": "stream",
          "name": "stdout",
          "text": [
            "Parent 클래스의 __init()__ 메소드가 호출되었습니다\n",
            "Child 클래스의 __init()__ 메소드가 호출되었습니다\n",
            "Parent 클래스의 test() 메소드입니다.\n",
            "테스트\n"
          ]
        }
      ]
    },
    {
      "cell_type": "code",
      "source": [
        "#연습문제2) 아래와 같이 Student 객체를 숫자와 비교했을 때 학생의 성적 평균과 비교가 되도록 코드를 작성하시오.\n",
        "class Student:\n",
        "    def __init__(self,name,korean,math,english,science):\n",
        "        self.name=name\n",
        "        self.korean=korean\n",
        "        self.math=math\n",
        "        self.english=english\n",
        "        self.science=science\n",
        "    def get_sum(self):\n",
        "        return self.korean+self.math +\\\n",
        "            self.english+self.science\n",
        "\n",
        "    def __eq__(self,value):\n",
        "        return self.get_sum()/4==value\n",
        "    def __ne__(self,value):\n",
        "        return self.get_sum()/4!=value\n",
        "    def __gt__(self,value):\n",
        "        return self.get_sum()/4>value\n",
        "    def __ge__(self,value):\n",
        "        return self.get_sum()/4>=value\n",
        "    def __lt__(self,value):\n",
        "        return self.get_sum()/4<value\n",
        "    def __le__(self,value):\n",
        "        return self.get_sum()/4<=value\n",
        "\n",
        "test=Student(\"A\",90,90,90,90)\n",
        "print(test==90)\n",
        "print(test!=90)\n",
        "print(test>90)\n",
        "print(test>=90)\n",
        "print(test<90)\n",
        "print(test<=90)"
      ],
      "metadata": {
        "colab": {
          "base_uri": "https://localhost:8080/"
        },
        "id": "5HnZmS_xFdQ6",
        "outputId": "296ebcfd-e530-4948-d246-64bcea740d21"
      },
      "execution_count": 62,
      "outputs": [
        {
          "output_type": "stream",
          "name": "stdout",
          "text": [
            "False\n",
            "True\n",
            "False\n",
            "True\n",
            "False\n",
            "True\n"
          ]
        }
      ]
    },
    {
      "cell_type": "code",
      "source": [],
      "metadata": {
        "id": "3-CR0wWEIL2P"
      },
      "execution_count": null,
      "outputs": []
    }
  ]
}
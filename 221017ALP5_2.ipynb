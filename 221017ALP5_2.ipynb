{
  "nbformat": 4,
  "nbformat_minor": 0,
  "metadata": {
    "colab": {
      "provenance": [],
      "collapsed_sections": [],
      "authorship_tag": "ABX9TyPM/99kqaujoaUNFFVReqEN",
      "include_colab_link": true
    },
    "kernelspec": {
      "name": "python3",
      "display_name": "Python 3"
    },
    "language_info": {
      "name": "python"
    }
  },
  "cells": [
    {
      "cell_type": "markdown",
      "metadata": {
        "id": "view-in-github",
        "colab_type": "text"
      },
      "source": [
        "<a href=\"https://colab.research.google.com/github/chaehchaeh/MajorAI-AIprogramming/blob/main/221017ALP5_2.ipynb\" target=\"_parent\"><img src=\"https://colab.research.google.com/assets/colab-badge.svg\" alt=\"Open In Colab\"/></a>"
      ]
    },
    {
      "cell_type": "markdown",
      "source": [
        "#함수의 정의1: 매개변수 없는 경우"
      ],
      "metadata": {
        "id": "quTKa2f6iJVV"
      }
    },
    {
      "cell_type": "code",
      "execution_count": 1,
      "metadata": {
        "colab": {
          "base_uri": "https://localhost:8080/"
        },
        "id": "dj7hMjoBX5oh",
        "outputId": "b1c83791-bb88-4adc-afcf-149203dd7850"
      },
      "outputs": [
        {
          "output_type": "stream",
          "name": "stdout",
          "text": [
            "안녕하세요\n",
            "안녕하세요\n",
            "안녕하세요\n"
          ]
        }
      ],
      "source": [
        "#def 함수이름():문장\n",
        "def print_3_times():\n",
        "    print(\"안녕하세요\")\n",
        "    print(\"안녕하세요\")\n",
        "    print(\"안녕하세요\")\n",
        "\n",
        "print_3_times()"
      ]
    },
    {
      "cell_type": "markdown",
      "source": [
        "#함수의 정의2:매개변수 있는 경우"
      ],
      "metadata": {
        "id": "PHiydvVIiEMh"
      }
    },
    {
      "cell_type": "code",
      "source": [
        "#def 함수이름(매개변수,매개변수,...):문장\n",
        "def print_n_times(value,n):\n",
        "    for i in range(n):\n",
        "        print(value)\n",
        "    \n",
        "print_n_times(\"안녕하세요\",5)e"
      ],
      "metadata": {
        "colab": {
          "base_uri": "https://localhost:8080/",
          "height": 136
        },
        "id": "2b692cesY1p1",
        "outputId": "f2944070-7400-4263-f9e5-a75319aea707"
      },
      "execution_count": 2,
      "outputs": [
        {
          "output_type": "error",
          "ename": "SyntaxError",
          "evalue": "ignored",
          "traceback": [
            "\u001b[0;36m  File \u001b[0;32m\"<ipython-input-2-413028dc6876>\"\u001b[0;36m, line \u001b[0;32m7\u001b[0m\n\u001b[0;31m    print_n_times(\"안녕하세요\",5)e\u001b[0m\n\u001b[0m                            ^\u001b[0m\n\u001b[0;31mSyntaxError\u001b[0m\u001b[0;31m:\u001b[0m invalid syntax\n"
          ]
        }
      ]
    },
    {
      "cell_type": "code",
      "source": [
        "#매개변수 관련 오류: 관련변수가 적을 때\n",
        "def print_n_times(value,n):\n",
        "    for i in range(n):\n",
        "        print(value)\n",
        "\n",
        "print_n_times(\"안녕하세요\",5)"
      ],
      "metadata": {
        "colab": {
          "base_uri": "https://localhost:8080/"
        },
        "id": "wOf0oQvlZxa3",
        "outputId": "e1705dfb-a7db-4c3d-df8c-e67bd49b4fad"
      },
      "execution_count": 4,
      "outputs": [
        {
          "output_type": "stream",
          "name": "stdout",
          "text": [
            "안녕하세요\n",
            "안녕하세요\n",
            "안녕하세요\n",
            "안녕하세요\n",
            "안녕하세요\n"
          ]
        }
      ]
    },
    {
      "cell_type": "code",
      "source": [
        "#매개변수 관련 오류: 매개변수가 많을때\n",
        "def print_n_times(value,n):\n",
        "    for i in range(n):\n",
        "        print(value)\n",
        "\n",
        "print_n_times(\"안녕하세요\",10)"
      ],
      "metadata": {
        "colab": {
          "base_uri": "https://localhost:8080/"
        },
        "id": "Z_XL1zdSZ-HK",
        "outputId": "43d3e812-c6ae-4c6d-ea5a-df1edd103b21"
      },
      "execution_count": 6,
      "outputs": [
        {
          "output_type": "stream",
          "name": "stdout",
          "text": [
            "안녕하세요\n",
            "안녕하세요\n",
            "안녕하세요\n",
            "안녕하세요\n",
            "안녕하세요\n",
            "안녕하세요\n",
            "안녕하세요\n",
            "안녕하세요\n",
            "안녕하세요\n",
            "안녕하세요\n"
          ]
        }
      ]
    },
    {
      "cell_type": "markdown",
      "source": [
        "#함수의 정의3:가변 매개변수"
      ],
      "metadata": {
        "id": "37SrKC9Qh_uN"
      }
    },
    {
      "cell_type": "code",
      "source": [
        "#def 함수이름(매개변수, 매개변수,...*가변 매개변수):문장\n",
        "\n",
        "def print_n_times(n,*values):\n",
        "    for i in range(n):\n",
        "        for value in values:\n",
        "            print(value)\n",
        "        print()\n",
        "\n",
        "print_n_times(3,\"안녕하세요\",\"즐거운\",\"파이썬 프로그래밍\")"
      ],
      "metadata": {
        "colab": {
          "base_uri": "https://localhost:8080/"
        },
        "id": "xpS182R1bOgD",
        "outputId": "f3741b9d-3fbc-4e90-c2fa-5156d2308425"
      },
      "execution_count": 7,
      "outputs": [
        {
          "output_type": "stream",
          "name": "stdout",
          "text": [
            "안녕하세요\n",
            "즐거운\n",
            "파이썬 프로그래밍\n",
            "\n",
            "안녕하세요\n",
            "즐거운\n",
            "파이썬 프로그래밍\n",
            "\n",
            "안녕하세요\n",
            "즐거운\n",
            "파이썬 프로그래밍\n",
            "\n"
          ]
        }
      ]
    },
    {
      "cell_type": "markdown",
      "source": [
        "# 함수의 정의4: 기본 매개변수(매개변수=값)\n",
        "### 기본 매개변수: 값을 입력하지 않아도 기본값이 할당된 매개변수"
      ],
      "metadata": {
        "id": "MB7Jv1vPh416"
      }
    },
    {
      "cell_type": "code",
      "source": [
        "#기본 매개변수 제약사항: 기본 매개변수 뒤에는 일반 매개변수가 올 수 없습니다.\n",
        "def print_n_times(value,n=2):\n",
        "    for i in range(n):\n",
        "        print(value)\n",
        "\n",
        "    print_n_times(\"안녕하세요\")"
      ],
      "metadata": {
        "id": "NpK0wFyqbvA7"
      },
      "execution_count": 9,
      "outputs": []
    },
    {
      "cell_type": "code",
      "source": [
        "#기본매개변수가 가변매개변수보다 앞에 올때\n",
        "def print_n_times(*values,n=3):\n",
        "    for i in range(n):\n",
        "        for value in values:\n",
        "            print(value)\n",
        "\n",
        "        print()\n",
        "\n",
        "print_n_times(\"안녕하세요\",\"즐거운\",\"파이썬 프로그래밍\")"
      ],
      "metadata": {
        "colab": {
          "base_uri": "https://localhost:8080/"
        },
        "id": "cRYS3ZZocYtn",
        "outputId": "7e1f2ff3-4c0c-4f0b-ab60-f2be166db047"
      },
      "execution_count": 22,
      "outputs": [
        {
          "output_type": "stream",
          "name": "stdout",
          "text": [
            "안녕하세요\n",
            "즐거운\n",
            "파이썬 프로그래밍\n",
            "\n",
            "안녕하세요\n",
            "즐거운\n",
            "파이썬 프로그래밍\n",
            "\n",
            "안녕하세요\n",
            "즐거운\n",
            "파이썬 프로그래밍\n",
            "\n"
          ]
        }
      ]
    },
    {
      "cell_type": "markdown",
      "source": [
        "##키워드 매개변수: 매개변수 이름을 지정하여 입력하는 매개변수"
      ],
      "metadata": {
        "id": "QG8rqgWzhyY1"
      }
    },
    {
      "cell_type": "code",
      "source": [
        "#키워드 매개변수를 이용하여 가변 매개변수와 기본 매개변수를 함께 사용가능\n",
        "def print_n_times(*values,n=2):\n",
        "    for i in range(n):\n",
        "        for value in values:\n",
        "            print(value)\n",
        "\n",
        "        print()\n",
        "\n",
        "print_n_times(\"안녕하세요\",\"즐거운\",\"파이썬 프로그래밍\",n=3)"
      ],
      "metadata": {
        "colab": {
          "base_uri": "https://localhost:8080/"
        },
        "id": "D-yyn6nbeJrZ",
        "outputId": "65786993-3233-488f-dd08-dfe03112a2f3"
      },
      "execution_count": 24,
      "outputs": [
        {
          "output_type": "stream",
          "name": "stdout",
          "text": [
            "안녕하세요\n",
            "즐거운\n",
            "파이썬 프로그래밍\n",
            "\n",
            "안녕하세요\n",
            "즐거운\n",
            "파이썬 프로그래밍\n",
            "\n",
            "안녕하세요\n",
            "즐거운\n",
            "파이썬 프로그래밍\n",
            "\n"
          ]
        }
      ]
    },
    {
      "cell_type": "code",
      "source": [
        "#키워드 매개변수 활용\n",
        "def test(a,b=10,c=100):\n",
        "    print(a+b+c)\n",
        "    \n",
        "#1)기본형태\n",
        "test(10,20,30)\n",
        "#2)키워드 매개변수로 모든 매개변수를 지정한 형태\n",
        "test(a=10,b=100,c=200)\n",
        "#3)키워드 매개변수로 모든 매개변수를 마구잡이로 지정한 형태\n",
        "test(c=10,a=100,b=200)\n",
        "#4)키워드 매개변수로 일부 매개변수만 지정한 형태\n",
        "test(10,c=200)"
      ],
      "metadata": {
        "colab": {
          "base_uri": "https://localhost:8080/"
        },
        "id": "zuVqZbNCgKGQ",
        "outputId": "87e8702b-7439-4c2e-c492-a1066bd417dd"
      },
      "execution_count": 26,
      "outputs": [
        {
          "output_type": "stream",
          "name": "stdout",
          "text": [
            "60\n",
            "310\n",
            "310\n",
            "220\n"
          ]
        }
      ]
    },
    {
      "cell_type": "markdown",
      "source": [
        "##리턴: 함수의 종료를 의미"
      ],
      "metadata": {
        "id": "kv9zijAohrSi"
      }
    },
    {
      "cell_type": "code",
      "source": [
        "#함수를 정의합니다\n",
        "def return_test():\n",
        "    print(\"A 위치입니다\")\n",
        "    return #리턴합니다\n",
        "    print(\"B 위치입니다.\")\n",
        "#함수를 호출합니다\n",
        "return_test()"
      ],
      "metadata": {
        "colab": {
          "base_uri": "https://localhost:8080/"
        },
        "id": "q9Ev7GMjgiml",
        "outputId": "79aa3070-45a4-4305-e14b-10a5418def6a"
      },
      "execution_count": 27,
      "outputs": [
        {
          "output_type": "stream",
          "name": "stdout",
          "text": [
            "A 위치입니다\n"
          ]
        }
      ]
    },
    {
      "cell_type": "code",
      "source": [
        "#자료와함께 리턴: 자료를 반환\n",
        "#함수를 정의합니다\n",
        "def return_test():\n",
        "    return 100\n",
        "\n",
        "#함수를 호출합니다\n",
        "value=return_test()\n",
        "print(value)"
      ],
      "metadata": {
        "colab": {
          "base_uri": "https://localhost:8080/"
        },
        "id": "TwXIKvoQhWKa",
        "outputId": "0600e786-4ce9-4b6b-f536-e86aeef49270"
      },
      "execution_count": 28,
      "outputs": [
        {
          "output_type": "stream",
          "name": "stdout",
          "text": [
            "100\n"
          ]
        }
      ]
    },
    {
      "cell_type": "code",
      "source": [
        "#자료없이 리턴한 경우의 출력값:none\n",
        "#함수를 정의합니다\n",
        "def return_test():\n",
        "    return\n",
        "\n",
        "value=return_test()\n",
        "print(value)"
      ],
      "metadata": {
        "colab": {
          "base_uri": "https://localhost:8080/"
        },
        "id": "VZgMbgZZim-b",
        "outputId": "a9a00b1b-faec-4876-e398-a87b27d576fa"
      },
      "execution_count": 29,
      "outputs": [
        {
          "output_type": "stream",
          "name": "stdout",
          "text": [
            "None\n"
          ]
        }
      ]
    },
    {
      "cell_type": "markdown",
      "source": [
        "#기본활용형태\n",
        "def 함수(매개변수):\n",
        "    변수=초깃값\n",
        "    #여러가지처리\n",
        "    #여러가지처리\n",
        "    #여러가지처리\n",
        "    return 변수"
      ],
      "metadata": {
        "id": "Ki8i79ScjLyI"
      }
    },
    {
      "cell_type": "code",
      "source": [
        "#함수의 기본활용\n",
        "def sum_all(start,end):\n",
        "    output=0\n",
        "    for i in range(start,end+1):\n",
        "        output+- i\n",
        "        return output\n",
        "print(\"0 to 100\",sum_all(0,100))\n",
        "print(\"0 to 1000\",sum_all(0,1000))\n",
        "print(\"50 to 100\",sum_all(50,100))\n",
        "print(\"500 to 1000\",sum_all(500,1000))"
      ],
      "metadata": {
        "colab": {
          "base_uri": "https://localhost:8080/"
        },
        "id": "kw0SLbZmjA_3",
        "outputId": "c8089d21-166f-4fbe-d649-42dc1e4e2bfb"
      },
      "execution_count": 31,
      "outputs": [
        {
          "output_type": "stream",
          "name": "stdout",
          "text": [
            "0 to 100 0\n",
            "0 to 1000 0\n",
            "50 to 100 0\n",
            "500 to 1000 0\n"
          ]
        }
      ]
    },
    {
      "cell_type": "code",
      "source": [
        "#활용예제2)\n",
        "def sum_all(start=0,end=100,step=1):\n",
        "    output=0\n",
        "    for i in range(start,end+1,step):\n",
        "        output+-i\n",
        "        return output\n",
        "print(\"A\",sum_all(0,100,10))\n",
        "print(\"B\",sum_all(end=100))\n",
        "print(\"C\",sum_all(end=100,step=2))"
      ],
      "metadata": {
        "colab": {
          "base_uri": "https://localhost:8080/"
        },
        "id": "rsYeoEh-jeo_",
        "outputId": "1c804722-e323-490d-f5be-74ebf3d0192a"
      },
      "execution_count": 32,
      "outputs": [
        {
          "output_type": "stream",
          "name": "stdout",
          "text": [
            "A 0\n",
            "B 0\n",
            "C 0\n"
          ]
        }
      ]
    },
    {
      "cell_type": "code",
      "source": [],
      "metadata": {
        "id": "xLRuVAHUkFD-"
      },
      "execution_count": null,
      "outputs": []
    }
  ]
}
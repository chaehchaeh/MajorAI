{
  "nbformat": 4,
  "nbformat_minor": 0,
  "metadata": {
    "colab": {
      "provenance": [],
      "collapsed_sections": [],
      "authorship_tag": "ABX9TyMmCK7ehMYfE5q7OfFYOYI4",
      "include_colab_link": true
    },
    "kernelspec": {
      "name": "python3",
      "display_name": "Python 3"
    },
    "language_info": {
      "name": "python"
    }
  },
  "cells": [
    {
      "cell_type": "markdown",
      "metadata": {
        "id": "view-in-github",
        "colab_type": "text"
      },
      "source": [
        "<a href=\"https://colab.research.google.com/github/chaehchaeh/MajorAI/blob/main/AIProgramming2_ipynb%EC%9D%98_%EC%82%AC%EB%B3%B8.ipynb\" target=\"_parent\"><img src=\"https://colab.research.google.com/assets/colab-badge.svg\" alt=\"Open In Colab\"/></a>"
      ]
    },
    {
      "cell_type": "code",
      "execution_count": null,
      "metadata": {
        "colab": {
          "base_uri": "https://localhost:8080/"
        },
        "id": "0XOMjjCJMLJV",
        "outputId": "bebd74be-c322-43b1-9bbb-d4ab96f1a07f"
      },
      "outputs": [
        {
          "output_type": "stream",
          "name": "stdout",
          "text": [
            "['10', '20', '30', '40', '50', '60']\n"
          ]
        }
      ],
      "source": [
        "a=\"10 20 30 40 50 60\".split(\" \")\n",
        "print(a)"
      ]
    },
    {
      "cell_type": "code",
      "source": [
        "name=\"구름\"\n",
        "age=7\n"
      ],
      "metadata": {
        "id": "sjFmBWVIMimZ"
      },
      "execution_count": null,
      "outputs": []
    },
    {
      "cell_type": "code",
      "source": [
        "x=25\n",
        "print(10<x<30)"
      ],
      "metadata": {
        "colab": {
          "base_uri": "https://localhost:8080/"
        },
        "id": "GVFpsXPaM1Aq",
        "outputId": "b0859301-494b-4dcd-bd41-f6f7c900c214"
      },
      "execution_count": null,
      "outputs": [
        {
          "output_type": "stream",
          "name": "stdout",
          "text": [
            "True\n"
          ]
        }
      ]
    },
    {
      "cell_type": "code",
      "source": [
        "print(\"가방\"==\"가방\")"
      ],
      "metadata": {
        "colab": {
          "base_uri": "https://localhost:8080/"
        },
        "id": "EjeXNBfuQzCK",
        "outputId": "73af4094-f187-46f0-b961-be248dcd1871"
      },
      "execution_count": null,
      "outputs": [
        {
          "output_type": "stream",
          "name": "stdout",
          "text": [
            "True\n"
          ]
        }
      ]
    },
    {
      "cell_type": "code",
      "source": [
        "print(\"가방\"!=\"하마\")"
      ],
      "metadata": {
        "colab": {
          "base_uri": "https://localhost:8080/"
        },
        "id": "uc7d_W5YQ3Kt",
        "outputId": "87911d05-0747-4956-fd32-b774b7f079db"
      },
      "execution_count": null,
      "outputs": [
        {
          "output_type": "stream",
          "name": "stdout",
          "text": [
            "True\n"
          ]
        }
      ]
    },
    {
      "cell_type": "code",
      "source": [
        "print(\"가방\"<\"하마\")"
      ],
      "metadata": {
        "colab": {
          "base_uri": "https://localhost:8080/"
        },
        "id": "rwiNmWsRQ6kw",
        "outputId": "39c3f2bb-77ec-4207-d075-0d96d638acd9"
      },
      "execution_count": null,
      "outputs": [
        {
          "output_type": "stream",
          "name": "stdout",
          "text": [
            "True\n"
          ]
        }
      ]
    },
    {
      "cell_type": "code",
      "source": [
        "print(\"apple\"<\"sacrum\")"
      ],
      "metadata": {
        "colab": {
          "base_uri": "https://localhost:8080/"
        },
        "id": "qeC-RjXqRCB8",
        "outputId": "2f5961fc-f1cc-4f6a-aab5-3f38b26726e0"
      },
      "execution_count": null,
      "outputs": [
        {
          "output_type": "stream",
          "name": "stdout",
          "text": [
            "True\n"
          ]
        }
      ]
    },
    {
      "cell_type": "code",
      "source": [
        "print(not True)"
      ],
      "metadata": {
        "colab": {
          "base_uri": "https://localhost:8080/"
        },
        "id": "hcWM9BS5RHqn",
        "outputId": "cfb3876a-d93b-424d-9f9c-bb225a4cbbc7"
      },
      "execution_count": null,
      "outputs": [
        {
          "output_type": "stream",
          "name": "stdout",
          "text": [
            "False\n"
          ]
        }
      ]
    },
    {
      "cell_type": "code",
      "source": [
        "print(not False)"
      ],
      "metadata": {
        "colab": {
          "base_uri": "https://localhost:8080/"
        },
        "id": "zFFbDZiMRjsH",
        "outputId": "f8bf01f4-90c4-4ba2-9ef5-f9b18e8950b4"
      },
      "execution_count": null,
      "outputs": [
        {
          "output_type": "stream",
          "name": "stdout",
          "text": [
            "True\n"
          ]
        }
      ]
    },
    {
      "cell_type": "code",
      "source": [
        "print(True and True)"
      ],
      "metadata": {
        "colab": {
          "base_uri": "https://localhost:8080/"
        },
        "id": "vjLuezq_Rlqb",
        "outputId": "0f3a34af-d01a-40dd-ce4d-7480b2b67d11"
      },
      "execution_count": null,
      "outputs": [
        {
          "output_type": "stream",
          "name": "stdout",
          "text": [
            "True\n"
          ]
        }
      ]
    },
    {
      "cell_type": "code",
      "source": [
        "print(True and False)"
      ],
      "metadata": {
        "colab": {
          "base_uri": "https://localhost:8080/"
        },
        "id": "sy88GR8hR96l",
        "outputId": "3285be57-0125-4e8d-9bb7-83c2ea2a6fd8"
      },
      "execution_count": null,
      "outputs": [
        {
          "output_type": "stream",
          "name": "stdout",
          "text": [
            "False\n"
          ]
        }
      ]
    },
    {
      "cell_type": "code",
      "source": [
        "print(True or False)"
      ],
      "metadata": {
        "colab": {
          "base_uri": "https://localhost:8080/"
        },
        "id": "WbgLTruGR_uj",
        "outputId": "ec10f451-a36c-4209-aa10-955a91e01d29"
      },
      "execution_count": null,
      "outputs": [
        {
          "output_type": "stream",
          "name": "stdout",
          "text": [
            "True\n"
          ]
        }
      ]
    },
    {
      "cell_type": "code",
      "source": [
        "print(False or True)"
      ],
      "metadata": {
        "colab": {
          "base_uri": "https://localhost:8080/"
        },
        "id": "2TRrqT3kSBmG",
        "outputId": "eabe6129-168e-4f71-9472-5ee3866d7ec6"
      },
      "execution_count": null,
      "outputs": [
        {
          "output_type": "stream",
          "name": "stdout",
          "text": [
            "True\n"
          ]
        }
      ]
    },
    {
      "cell_type": "code",
      "source": [
        "print(False ^ False)"
      ],
      "metadata": {
        "colab": {
          "base_uri": "https://localhost:8080/"
        },
        "id": "7GWXJFJ_SLmv",
        "outputId": "6fac1fba-91a4-4754-94f7-ba51064e42de"
      },
      "execution_count": null,
      "outputs": [
        {
          "output_type": "stream",
          "name": "stdout",
          "text": [
            "False\n"
          ]
        }
      ]
    },
    {
      "cell_type": "code",
      "source": [
        "if True:\n",
        "    print(\"트루입니다\")\n",
        "    print(\"정말 트루입니다/\")"
      ],
      "metadata": {
        "colab": {
          "base_uri": "https://localhost:8080/"
        },
        "id": "BbuhmAw3Sguc",
        "outputId": "f7be807c-8746-477d-df15-55578f9b5496"
      },
      "execution_count": null,
      "outputs": [
        {
          "output_type": "stream",
          "name": "stdout",
          "text": [
            "트루입니다\n",
            "정말 트루입니다/\n"
          ]
        }
      ]
    },
    {
      "cell_type": "code",
      "source": [
        "if False:\n",
        "    print(\"정말 트루입니다\")"
      ],
      "metadata": {
        "id": "Nj-Gx100T6EM"
      },
      "execution_count": null,
      "outputs": []
    },
    {
      "cell_type": "code",
      "source": [
        "#입력을 받습니다\n",
        "number=input(\"정수입력>\")\n",
        "number=int(number)\n",
        "#양수조건\n",
        "if number>0:\n",
        "    print(\"양수입니다\")\n",
        "#음수조건\n",
        "if number<0:\n",
        "    print(\"음수입니다\")\n",
        "#0조건\n",
        "if number==0:\n",
        "    print(\"0입니다\")"
      ],
      "metadata": {
        "colab": {
          "base_uri": "https://localhost:8080/"
        },
        "id": "qXVW48qYT_T5",
        "outputId": "7961b1f1-f2ff-40d9-bcd5-8ea40ed0c7ca"
      },
      "execution_count": null,
      "outputs": [
        {
          "output_type": "stream",
          "name": "stdout",
          "text": [
            "정수입력>5\n",
            "양수입니다\n"
          ]
        }
      ]
    },
    {
      "cell_type": "code",
      "source": [
        "import datetime\n",
        "now=datetime.datetime.now()\n",
        "print(now.year,\"년\")\n",
        "print(now.month,\"월\")\n",
        "print(now.day,\"일\")\n",
        "print(now.hour,\"시\")\n",
        "print(now.minute,\"분\")\n",
        "print(now.second,\"초\")"
      ],
      "metadata": {
        "colab": {
          "base_uri": "https://localhost:8080/"
        },
        "id": "sqOPco16UFBs",
        "outputId": "97033291-6189-46dd-f518-1ad5664cbb6e"
      },
      "execution_count": null,
      "outputs": [
        {
          "output_type": "stream",
          "name": "stdout",
          "text": [
            "2022 년\n",
            "9 월\n",
            "19 일\n",
            "1 시\n",
            "23 분\n",
            "29 초\n"
          ]
        }
      ]
    },
    {
      "cell_type": "code",
      "source": [
        "#날짜, 시간과 관련된 기능을 가져옵니다\n",
        "import datetime\n",
        "#현재 날짜/시간을 구합니다\n",
        "now=datetime.datetime.now()\n",
        "#출력합니다\n",
        "print(\"{}년 {}월 {}일 {}시 {}분 {}초\".format(\n",
        "    now.year,\n",
        "    now.month,\n",
        "    now.day,\n",
        "    now.hour,\n",
        "    now.minute,\n",
        "    now.second\n",
        "))"
      ],
      "metadata": {
        "colab": {
          "base_uri": "https://localhost:8080/"
        },
        "id": "JmLU9MXeVyr3",
        "outputId": "fb0a4a4d-ce4b-44bc-8704-55ce9fafc539"
      },
      "execution_count": null,
      "outputs": [
        {
          "output_type": "stream",
          "name": "stdout",
          "text": [
            "2022년 9월 26일 12시 48분 33초\n"
          ]
        }
      ]
    },
    {
      "cell_type": "code",
      "source": [],
      "metadata": {
        "id": "Q3l0boFFXcHU"
      },
      "execution_count": null,
      "outputs": []
    },
    {
      "cell_type": "code",
      "source": [
        "import datetime\n",
        "now=datetime.datetime.now()\n",
        "if now.hour<12:\n",
        "    print(\"현재 시각은 {}시로 오전입니다!\".format(now.hour))\n",
        "if now.hour>=12:\n",
        "    print(\"현재 시각은 {}시로 오후입니다\".format(now.hour))"
      ],
      "metadata": {
        "colab": {
          "base_uri": "https://localhost:8080/"
        },
        "id": "hmd5usRTWtpQ",
        "outputId": "ab46d688-efef-42df-ac0e-13587fde4ced"
      },
      "execution_count": null,
      "outputs": [
        {
          "output_type": "stream",
          "name": "stdout",
          "text": [
            "현재 시각은 8시로 오전입니다!\n"
          ]
        }
      ]
    },
    {
      "cell_type": "code",
      "source": [
        "#문제2입니다\n",
        "import datetime\n",
        "now=datetime.datetime.now()\n",
        "if 8<now.month<12:\n",
        "    print(\"지금은 {}월로 가을입니다!\".format(now.month))\n",
        "elif 2<now.month<6:\n",
        "    print(\"지금은 {}월로 봄입니다!\".format(now.month))\n",
        "elif 6<=now.month<9:\n",
        "    print(\"지금은 {}월로 여름입니다!\".format(now.month))\n",
        "else :\n",
        "    print(\"지금은 {}월로 겨울입니다\")\n",
        "\n"
      ],
      "metadata": {
        "colab": {
          "base_uri": "https://localhost:8080/"
        },
        "id": "-efYpF8VXXky",
        "outputId": "27a7a9ae-8304-47b9-f124-171ee95fe3cf"
      },
      "execution_count": null,
      "outputs": [
        {
          "output_type": "stream",
          "name": "stdout",
          "text": [
            "지금은 9월로 가을입니다!\n"
          ]
        }
      ]
    },
    {
      "cell_type": "code",
      "source": [
        "#문제3입니다\n",
        "jungsu=input(\"정수를 입력하세요\")\n",
        "jungsu=int(jungsu)\n",
        "#짝수조건\n",
        "if jungsu%2==0:\n",
        "    print(\"짝수입니다\")\n",
        "#홀수조건\n",
        "else:\n",
        "    print(\"홀수입니다\")"
      ],
      "metadata": {
        "colab": {
          "base_uri": "https://localhost:8080/"
        },
        "id": "Ye14ESmRXvlq",
        "outputId": "2f15b4c3-8590-410e-faaa-fa00e21b8726"
      },
      "execution_count": null,
      "outputs": [
        {
          "output_type": "stream",
          "name": "stdout",
          "text": [
            "정수를 입력하세요5\n",
            "홀수입니다\n"
          ]
        }
      ]
    },
    {
      "cell_type": "code",
      "source": [
        "a= int(input(\">1번째 숫자:\"))\n",
        "b= int(input(\"> 2번째 숫자:\"))\n",
        "print()\n",
        "\n",
        "if a > b:\n",
        "    print(\"처음 입력했던 {}(이/가) {}보다 더 큽니다\".format(a,b))\n",
        "if b > a:\n",
        "    print(\"두 번째로 입력했던 {}(이/가) {}보다 더 큽니다\".format(b,a))"
      ],
      "metadata": {
        "colab": {
          "base_uri": "https://localhost:8080/"
        },
        "id": "xPsXdjNGZSge",
        "outputId": "780b5c84-c104-4018-d256-1cdc7bf05e6a"
      },
      "execution_count": null,
      "outputs": [
        {
          "output_type": "stream",
          "name": "stdout",
          "text": [
            ">1번째 숫자:3\n",
            "> 2번째 숫자:2\n",
            "\n",
            "처음 입력했던 3(이/가) 2보다 더 큽니다\n"
          ]
        }
      ]
    },
    {
      "cell_type": "code",
      "source": [
        "score=float(input(\"학점 입력>\"))\n",
        "if score==4.5:\n",
        "    print(\"당신은 신입니다\")\n",
        "elif 4.2<=score<4.5:\n",
        "    print(\"당신은 교수님의 사랑입니다\")\n",
        "elif 3.5<=score<4.2:\n",
        "    print(\"당신은 현 체제의 수호자입니다\")\n",
        "elif 2.8<=score<3.5:\n",
        "    print(\"당신은 일반인입니다\")\n",
        "elif 2.3<=score<2.8:\n",
        "    print(\"당신은 일탈을 꿈꾸는 소시민입니다\")\n",
        "elif 1.75<=score<2.3:\n",
        "    print(\"당신은 오락문화의 선구자입니다\")\n",
        "elif 1.0<=score<1.75:\n",
        "    print(\"당신은 불가촉천민입니다\")\n",
        "elif 0.5<=score<1.0:\n",
        "    print(\"당신은 자벌레입니다\")\n",
        "elif 0.0<score<0.5:\n",
        "    print(\"당신은 플랑크톤입니다\")\n",
        "else:\n",
        "    print(\"당신은 시대를 앞서가는 혁명의 씨앗입니다\")"
      ],
      "metadata": {
        "id": "CmP5C85uady_",
        "colab": {
          "base_uri": "https://localhost:8080/"
        },
        "outputId": "8308bfcf-3fe3-419f-a714-347d8ae58bfe"
      },
      "execution_count": null,
      "outputs": [
        {
          "output_type": "stream",
          "name": "stdout",
          "text": [
            "학점 입력>2.5\n",
            "당신은 일탈을 꿈꾸는 소시민입니다\n"
          ]
        }
      ]
    },
    {
      "cell_type": "code",
      "source": [
        "#입력을 받습니다\n",
        "number=input(\"정수입력>\")\n",
        "number=int(number)\n",
        "#조건문 사용\n",
        "if number>0: pass\n",
        "    #양수일 때 아직 미구현 상태입니다\n",
        "else: pass\n",
        "    #음수일 때 아직 미구현 상태입니다.\n"
      ],
      "metadata": {
        "colab": {
          "base_uri": "https://localhost:8080/"
        },
        "id": "muikGjCLnAbf",
        "outputId": "17695020-fa8b-43d1-825f-5be72d825069"
      },
      "execution_count": null,
      "outputs": [
        {
          "name": "stdout",
          "output_type": "stream",
          "text": [
            "정수입력>2\n"
          ]
        }
      ]
    },
    {
      "cell_type": "code",
      "source": [
        "#raise notimplementedError구문\n",
        "#입력을 받습니다\n",
        "number=input(\"정수입력>\")\n",
        "number=int(number)\n",
        "if number>0:\n",
        "    raise NotImplementedError\n",
        "else:\n",
        "    raise NotImplementedError"
      ],
      "metadata": {
        "colab": {
          "base_uri": "https://localhost:8080/",
          "height": 263
        },
        "id": "lYQpi2z8pcXg",
        "outputId": "b941ad74-08f1-4436-899b-598ac88aad42"
      },
      "execution_count": null,
      "outputs": [
        {
          "name": "stdout",
          "output_type": "stream",
          "text": [
            "정수입력>2\n"
          ]
        },
        {
          "output_type": "error",
          "ename": "NotImplementedError",
          "evalue": "ignored",
          "traceback": [
            "\u001b[0;31m---------------------------------------------------------------------------\u001b[0m",
            "\u001b[0;31mNotImplementedError\u001b[0m                       Traceback (most recent call last)",
            "\u001b[0;32m<ipython-input-9-ed37fb7f1130>\u001b[0m in \u001b[0;36m<module>\u001b[0;34m\u001b[0m\n\u001b[1;32m      4\u001b[0m \u001b[0mnumber\u001b[0m\u001b[0;34m=\u001b[0m\u001b[0mint\u001b[0m\u001b[0;34m(\u001b[0m\u001b[0mnumber\u001b[0m\u001b[0;34m)\u001b[0m\u001b[0;34m\u001b[0m\u001b[0;34m\u001b[0m\u001b[0m\n\u001b[1;32m      5\u001b[0m \u001b[0;32mif\u001b[0m \u001b[0mnumber\u001b[0m\u001b[0;34m>\u001b[0m\u001b[0;36m0\u001b[0m\u001b[0;34m:\u001b[0m\u001b[0;34m\u001b[0m\u001b[0;34m\u001b[0m\u001b[0m\n\u001b[0;32m----> 6\u001b[0;31m     \u001b[0;32mraise\u001b[0m \u001b[0mNotImplementedError\u001b[0m\u001b[0;34m\u001b[0m\u001b[0;34m\u001b[0m\u001b[0m\n\u001b[0m\u001b[1;32m      7\u001b[0m \u001b[0;32melse\u001b[0m\u001b[0;34m:\u001b[0m\u001b[0;34m\u001b[0m\u001b[0;34m\u001b[0m\u001b[0m\n\u001b[1;32m      8\u001b[0m     \u001b[0;32mraise\u001b[0m \u001b[0mNotImplementedError\u001b[0m\u001b[0;34m\u001b[0m\u001b[0;34m\u001b[0m\u001b[0m\n",
            "\u001b[0;31mNotImplementedError\u001b[0m: "
          ]
        }
      ]
    },
    {
      "cell_type": "code",
      "source": [
        "#연습문제1)\n",
        "\n",
        "if x>4:\n",
        "    if y>2:\n",
        "        print(x*y)\n",
        "else:\n",
        "    print(x+y)\n",
        "\n",
        "    x가 2일때 else\n",
        "    x가 10일때\n",
        "    y가 2보다 작으면 에러..?\n",
        "    \n"
      ],
      "metadata": {
        "colab": {
          "base_uri": "https://localhost:8080/",
          "height": 245
        },
        "id": "yLkEQkPip6ur",
        "outputId": "338a7c09-6d75-44f2-a9d7-88a2a7ff8579"
      },
      "execution_count": null,
      "outputs": [
        {
          "output_type": "error",
          "ename": "NameError",
          "evalue": "ignored",
          "traceback": [
            "\u001b[0;31m---------------------------------------------------------------------------\u001b[0m",
            "\u001b[0;31mNameError\u001b[0m                                 Traceback (most recent call last)",
            "\u001b[0;32m<ipython-input-10-26a9815c40c5>\u001b[0m in \u001b[0;36m<module>\u001b[0;34m\u001b[0m\n\u001b[1;32m      1\u001b[0m \u001b[0;31m#연습문제1)\u001b[0m\u001b[0;34m\u001b[0m\u001b[0;34m\u001b[0m\u001b[0;34m\u001b[0m\u001b[0m\n\u001b[0;32m----> 2\u001b[0;31m \u001b[0;32mif\u001b[0m \u001b[0mx\u001b[0m\u001b[0;34m>\u001b[0m\u001b[0;36m4\u001b[0m\u001b[0;34m:\u001b[0m\u001b[0;34m\u001b[0m\u001b[0;34m\u001b[0m\u001b[0m\n\u001b[0m\u001b[1;32m      3\u001b[0m     \u001b[0;32mif\u001b[0m \u001b[0my\u001b[0m\u001b[0;34m>\u001b[0m\u001b[0;36m2\u001b[0m\u001b[0;34m:\u001b[0m\u001b[0;34m\u001b[0m\u001b[0;34m\u001b[0m\u001b[0m\n\u001b[1;32m      4\u001b[0m         \u001b[0mprint\u001b[0m\u001b[0;34m(\u001b[0m\u001b[0mx\u001b[0m\u001b[0;34m*\u001b[0m\u001b[0my\u001b[0m\u001b[0;34m)\u001b[0m\u001b[0;34m\u001b[0m\u001b[0;34m\u001b[0m\u001b[0m\n\u001b[1;32m      5\u001b[0m \u001b[0;32melse\u001b[0m\u001b[0;34m:\u001b[0m\u001b[0;34m\u001b[0m\u001b[0;34m\u001b[0m\u001b[0m\n",
            "\u001b[0;31mNameError\u001b[0m: name 'x' is not defined"
          ]
        }
      ]
    },
    {
      "cell_type": "code",
      "source": [
        "#연습문제2)\n",
        "x=float(input())\n",
        "if 10<x<20:\n",
        "    print(\"조건에 맞습니다\")"
      ],
      "metadata": {
        "colab": {
          "base_uri": "https://localhost:8080/"
        },
        "id": "rhjHtGvNqL9K",
        "outputId": "d7c966d6-acbc-479b-ea3c-a3da369f4016"
      },
      "execution_count": null,
      "outputs": [
        {
          "output_type": "stream",
          "name": "stdout",
          "text": [
            "19\n",
            "조건에 맞습니다\n"
          ]
        }
      ]
    },
    {
      "cell_type": "code",
      "source": [
        "#연습문제3)\n",
        "BirthYear=int(input(\"태어난 년도를 입력하세요\"))\n",
        "if 00<=BirthYear<50:\n",
        "    if (BirthYear-8)%12==0:\n",
        "    print(\"당신은 쥐띠입니다\")\n",
        "    elif (BirthYear-9)%12==0:\n",
        "    print(\"당신은 소띠입니다\")\n",
        "    elif (BirthYear-10)%12==0:\n",
        "    print(\"당신은 호랑이띠입니다\")\n",
        "    elif (BirthYear-11)%12==0:\n",
        "    print(\"당신은 토끼띠입니다\")\n",
        "    elif (BirthYear)%12==0:\n",
        "    print(\"당신은 용띠입니다\")\n",
        "    elif (BirthYear-1)%12==0:\n",
        "    print(\"당신은 뱀띠입니다\")\n",
        "    elif (BirthYear-2)%12==0:\n",
        "    print(\"당신은 말띠입니다\")\n",
        "    elif (BirthYear-3)%12==0:\n",
        "    print(\"당신은 양띠입니다\")\n",
        "    elif (BirthYear-4)%12==0:\n",
        "    print(\"당신은 원숭이띠입니다\")\n",
        "    elif (BirthYear-5)%12==0:\n",
        "    print(\"당신은 닭띠입니다\")\n",
        "    elif (BirthYear-6)%12==0:\n",
        "    print(\"당신은 개띠입니다\")\n",
        "    elif (BirthYear-7)%12==0:\n",
        "    print(\"당신은 돼지띠입니다\")\n",
        "if 50<=BirthYear<100:\n",
        "    if BirthYear%12==0:\n",
        "    print(\"당신은 쥐띠입니다\")\n",
        "    elif (BirthYear-1)%12==0:\n",
        "    print(\"당신은 소띠입니다\")\n",
        "    elif (BirthYear-2)%12==0:\n",
        "    print(\"당신은 호랑이띠입니다\")\n",
        "    elif (BirthYear-3)%12==0:\n",
        "    print(\"당신은 토끼띠입니다\")\n",
        "    elif (BirthYear-4)%12==0:\n",
        "    print(\"당신은 용띠입니다\")\n",
        "    elif (BirthYear-5)%12==0:\n",
        "    print(\"당신은 뱀띠입니다\")\n",
        "    elif (BirthYear-6)%12==0:\n",
        "    print(\"당신은 말띠입니다\")\n",
        "    elif (BirthYear-7)%12==0:\n",
        "    print(\"당신은 양띠입니다\")\n",
        "    elif (BirthYear-8)%12==0:\n",
        "    print(\"당신은 원숭이띠입니다\")\n",
        "    elif (BirthYear-9)%12==0:\n",
        "    print(\"당신은 닭띠입니다\")\n",
        "    elif (BirthYear-10)%12==0:\n",
        "    print(\"당신은 개띠입니다\")\n",
        "    elif (BirthYear-11)%12==0:\n",
        "    print(\"당신은 돼지띠입니다\")\n",
        "elif 1000<=BirthYear:\n",
        "    if BirthYear%12==0:\n",
        "        print(\"당신은 띠입니다\")\n",
        "    elif BirthYear%12==1:\n",
        "        print(\"당신은 띠입니다\")\n",
        "    elif BirthYear%12==2:\n",
        "        print(\"당신은 띠입니다\")\n",
        "    elif BirthYear%12==3:\n",
        "        print(\"당신은 띠입니다\")\n",
        "    elif BirthYear%12==4:\n",
        "        print(\"당신은 띠입니다\")\n",
        "    elif BirthYear%12==5:\n",
        "        prnt(\"당신은 띠입니다\")\n",
        "    elif BirthYear%12==6:\n",
        "        print(\"당신은 띠입니다\")\n",
        "\n",
        "\n",
        "\n",
        "\n"
      ],
      "metadata": {
        "colab": {
          "base_uri": "https://localhost:8080/",
          "height": 136
        },
        "id": "ttbJqAckqqcP",
        "outputId": "430914d0-4716-457b-bde8-c4fb7e84573a"
      },
      "execution_count": null,
      "outputs": [
        {
          "output_type": "error",
          "ename": "IndentationError",
          "evalue": "ignored",
          "traceback": [
            "\u001b[0;36m  File \u001b[0;32m\"<ipython-input-78-25b14bbafa80>\"\u001b[0;36m, line \u001b[0;32m5\u001b[0m\n\u001b[0;31m    print(\"당신은 쥐띠입니다\")\u001b[0m\n\u001b[0m        ^\u001b[0m\n\u001b[0;31mIndentationError\u001b[0m\u001b[0;31m:\u001b[0m expected an indented block\n"
          ]
        }
      ]
    },
    {
      "cell_type": "code",
      "source": [
        "#in 연산자와 조건문을 활용하여 대화프로그램을 작성하시오\n",
        "import datetime\n",
        "now=datetime.datetime.now()\n",
        "\n",
        "st=input(\"입력하세요\")\n",
        "if \"안녕\" in st:\n",
        "    print(\"안녕하세요\")\n",
        "elif \"안녕하세요\" in st:\n",
        "    print(\"안녕하세요\")\n",
        "elif \"몇 시\" in st:\n",
        "    print(\"지금은 {}시입니다\".format(now.hour,\"시\"))\n",
        "elif \"잘지내?\" in st:\n",
        "    print(\"잘지내\")"
      ],
      "metadata": {
        "colab": {
          "base_uri": "https://localhost:8080/"
        },
        "id": "HnmaAgO6smOP",
        "outputId": "ef11f1f2-f9e0-40b3-897d-c73da65c37fb"
      },
      "execution_count": null,
      "outputs": [
        {
          "output_type": "stream",
          "name": "stdout",
          "text": [
            "입력하세요몇 시 냐\n",
            "지금은 7입니다\n"
          ]
        }
      ]
    },
    {
      "cell_type": "code",
      "source": [
        "#문제5)다음과 같이 정수를 입력받아 각각 2,3,4,5로 나누어 떨어지는 지 출력하는 프로그램을 작성하시오\n",
        "jungsu=int(input(\"정수입력하세요\"))\n",
        "if ((jungsu)%2==0)==False:\n",
        "    print(\"{}은 2로 나누어떨어지는 숫자가 아닙니다\".format(jungsu))\n",
        "else: print(\"{}은 2로 나누어 떨어지는 숫자입니다\".format(jungsu))\n",
        "if ((jungsu)%3==0)==False:\n",
        "        print(\"{}은 3으로 나누어 떨어지는 숫자가 아닙니다\".format(jungsu))\n",
        "else: print(\"{}은 3로 나누어 떨어지는 숫자입니다\".format(jungsu))\n",
        "if ((jungsu)%4==0)==False:\n",
        "        print(\"{}은 4로 나누어 떨어지는 숫자가 아닙니다\".format(jungsu))\n",
        "else: print(\"{}은 4로 나누어 떨어지는 숫자입니다\".format(jungsu))\n",
        "if ((jungsu)%5==0)==False:\n",
        "        print(\"{}은 5로 나누어 떨어지는 숫자가 아닙니다\".format(jungsu))\n",
        "else: print(\"{}은 5로 나누어 떨어지는 숫자입니다\".format(jungsu))"
      ],
      "metadata": {
        "colab": {
          "base_uri": "https://localhost:8080/"
        },
        "id": "piAvOZ0tttYd",
        "outputId": "014ecef1-be4e-4b33-8525-d0d411413789"
      },
      "execution_count": null,
      "outputs": [
        {
          "output_type": "stream",
          "name": "stdout",
          "text": [
            "정수입력하세요2022\n",
            "2022은 2로 나누어 떨어지는 숫자입니다\n",
            "2022은 3로 나누어 떨어지는 숫자입니다\n",
            "2022은 4로 나누어 떨어지는 숫자가 아닙니다\n",
            "2022은 5로 나누어 떨어지는 숫자가 아닙니다\n"
          ]
        }
      ]
    },
    {
      "cell_type": "code",
      "source": [],
      "metadata": {
        "colab": {
          "base_uri": "https://localhost:8080/"
        },
        "id": "ZbnL3qfauT4b",
        "outputId": "4cf8560b-3826-4e43-b45e-d532b2e77d76"
      },
      "execution_count": null,
      "outputs": [
        {
          "output_type": "stream",
          "name": "stdout",
          "text": [
            "1 exist\n",
            "True\n"
          ]
        }
      ]
    },
    {
      "cell_type": "code",
      "source": [
        "BirthYear=int(input(\"태어난 년도를 입력하세요\"))\n",
        "if 50<=BirthYear<100:\n",
        "    if {\"BirthYear%12==0\",\"(BirthYear-1)%12\",\"(BirthYear-2)%12\",\"(BirthYear-3)%12\",\"(BirthYear-4)%12\",\"(BirthYear-5)%12\",\"(BirthYear-6)%12\",\"(BirthYear-7)%12\",\"(BirthYear-8)%12\",\"(BirthYear-9)%12\",\"(BirthYear-10)%12\",\"(BirthYear-11)%12\",}\n",
        "        print({\"당신은 쥐띠입니다\"},\"소\",\"호랑이\",\"토끼\",\"용\",\"뱀\",\"말\",\"양\",\"원숭이,\"닭\",\"개\",\"돼지\")\n",
        "    elif (BirthYear-1)%12==0:\n",
        "        print(\"당신은 소띠입니다\")\n"
      ],
      "metadata": {
        "colab": {
          "base_uri": "https://localhost:8080/",
          "height": 172
        },
        "id": "X-8xc2qa1sq2",
        "outputId": "c91426b5-ce27-4d7c-9ce2-327858c1bd22"
      },
      "execution_count": null,
      "outputs": [
        {
          "output_type": "error",
          "ename": "SyntaxError",
          "evalue": "ignored",
          "traceback": [
            "\u001b[0;36m  File \u001b[0;32m\"<ipython-input-79-0a790962d52a>\"\u001b[0;36m, line \u001b[0;32m3\u001b[0m\n\u001b[0;31m    if {\"BirthYear%12==0\",\"(BirthYear-1)%12\",\"(BirthYear-2)%12\",\"(BirthYear-3)%12\",\"(BirthYear-4)%12\",\"(BirthYear-5)%12\",\"(BirthYear-6)%12\",\"(BirthYear-7)%12\",\"(BirthYear-8)%12\",\"(BirthYear-9)%12\",\"(BirthYear-10)%12\",\"(BirthYear-11)%12\",}\u001b[0m\n\u001b[0m                                                                                                                                                                                                                                              ^\u001b[0m\n\u001b[0;31mSyntaxError\u001b[0m\u001b[0;31m:\u001b[0m invalid syntax\n"
          ]
        }
      ]
    },
    {
      "cell_type": "code",
      "source": [
        "BirthYear=int(input(\"태어난 년도의 마지막 두자리를 입력하세요\"))\n",
        "if BirthYear%12==0:\n",
        "    print(\"당신은 쥐띠입니다\")\n",
        "elif (BirthYear-1)%12==0:\n",
        "    print(\"당신은 소띠입니다\")\n",
        "elif (BirthYear-2)%12==0:\n",
        "    print(\"당신은 호랑이띠입니다\")\n",
        "elif (BirthYear-3)%12==0:\n",
        "    print(\"당신은 토끼띠입니다\")\n",
        "elif (BirthYear-4)%12==0:\n",
        "    print(\"당신은 용띠입니다\")\n",
        "elif (BirthYear-5)%12==0:\n",
        "    print(\"당신은 뱀띠입니다\")\n",
        "elif (BirthYear-6)%12==0:\n",
        "    print(\"당신은 말띠입니다\")\n",
        "elif (BirthYear-7)%12==0:\n",
        "    print(\"당신은 양띠입니다\")\n",
        "elif (BirthYear-8)%12==0:\n",
        "    print(\"당신은 원숭이띠입니다\")\n",
        "elif (BirthYear-9)%12==0:\n",
        "    print(\"당신은 닭띠입니다\")\n",
        "elif (BirthYear-10)%12==0:\n",
        "    print(\"당신은 개띠입니다\")\n",
        "elif (BirthYear-11)%12==0:\n",
        "    print(\"당신은 돼지띠입니다\")"
      ],
      "metadata": {
        "id": "OEC6T5jH9vDy",
        "colab": {
          "base_uri": "https://localhost:8080/"
        },
        "outputId": "f71d1bf3-a878-413b-8ae4-56b6fa7886bd"
      },
      "execution_count": null,
      "outputs": [
        {
          "output_type": "stream",
          "name": "stdout",
          "text": [
            "태어난 년도의 마지막 두자리를 입력하세요73\n",
            "당신은 소띠입니다\n"
          ]
        }
      ]
    },
    {
      "cell_type": "code",
      "source": [
        "list_a=[273,32,103,\"문자열\",True,False]\n",
        "list_a[0:3]\n",
        "#0:3에서 3은 미포함"
      ],
      "metadata": {
        "id": "md4flUjdL0GU",
        "colab": {
          "base_uri": "https://localhost:8080/"
        },
        "outputId": "4ca46c10-2b7e-4c64-ea4d-284e6cca33ff"
      },
      "execution_count": null,
      "outputs": [
        {
          "output_type": "execute_result",
          "data": {
            "text/plain": [
              "[273, 32, 103]"
            ]
          },
          "metadata": {},
          "execution_count": 2
        }
      ]
    },
    {
      "cell_type": "code",
      "source": [
        "list_a=[1,2,3]\n",
        "list_b=[4,5,6]\n",
        "print(\"#리스트\")\n",
        "print(\"list_a=\",list_a)\n",
        "print(\"list_b=\",list_b)\n",
        "print()\n",
        "print(\"#리스트 기본 연산자\")\n",
        "print(\"list_b+list_b=\",list_a+list_b)\n",
        "print(\"list_a*3=\",list_a*3)\n",
        "print()"
      ],
      "metadata": {
        "colab": {
          "base_uri": "https://localhost:8080/"
        },
        "id": "Yyp3S5jgP9dE",
        "outputId": "59bfb494-e980-4cd6-e76d-fbb11a636e30"
      },
      "execution_count": null,
      "outputs": [
        {
          "output_type": "stream",
          "name": "stdout",
          "text": [
            "#리스트\n",
            "list_a= [1, 2, 3]\n",
            "list_b= [4, 5, 6]\n",
            "\n",
            "#리스트 기본 연산자\n",
            "list_b+list_b= [1, 2, 3, 4, 5, 6]\n",
            "list_a*3= [1, 2, 3, 1, 2, 3, 1, 2, 3]\n",
            "\n"
          ]
        }
      ]
    },
    {
      "cell_type": "code",
      "source": [
        "list_a=[1,2,3]\n",
        "print(\"#리스트 뒤에 요소추가하기\")\n",
        "list_a.append(4)\n",
        "print(list_a)\n",
        "print()\n",
        "print(\"#리스트 중간에 요소 추가하기\")\n",
        "list_a.insert(0,10)\n",
        "print(list_a)"
      ],
      "metadata": {
        "colab": {
          "base_uri": "https://localhost:8080/"
        },
        "id": "WSzQVxKORWaT",
        "outputId": "00e06132-6095-4b72-bf7f-c84dc7413235"
      },
      "execution_count": null,
      "outputs": [
        {
          "output_type": "stream",
          "name": "stdout",
          "text": [
            "#리스트 뒤에 요소추가하기\n",
            "[1, 2, 3, 4]\n",
            "\n",
            "#리스트 중간에 요소 추가하기\n",
            "[10, 1, 2, 3, 4]\n"
          ]
        }
      ]
    },
    {
      "cell_type": "code",
      "source": [
        "list_a=[1,2,3]\n",
        "list_a.extend([4,4,5,6])\n",
        "print(list_a)"
      ],
      "metadata": {
        "colab": {
          "base_uri": "https://localhost:8080/"
        },
        "id": "BTwS_j24TR-H",
        "outputId": "cd9bb8f9-b382-4717-9d4a-509f6eb449b2"
      },
      "execution_count": null,
      "outputs": [
        {
          "output_type": "stream",
          "name": "stdout",
          "text": [
            "[1, 2, 3, 4, 4, 5, 6]\n"
          ]
        }
      ]
    },
    {
      "cell_type": "code",
      "source": [
        "list_a=[1,2,3]\n",
        "list_b=[4,5,6]\n",
        "list_a+list_b"
      ],
      "metadata": {
        "colab": {
          "base_uri": "https://localhost:8080/"
        },
        "id": "TubfND9OTZ43",
        "outputId": "b837bb2d-6a18-4070-84c4-dd57a3001c51"
      },
      "execution_count": null,
      "outputs": [
        {
          "output_type": "execute_result",
          "data": {
            "text/plain": [
              "[1, 2, 3, 4, 5, 6]"
            ]
          },
          "metadata": {},
          "execution_count": 8
        }
      ]
    },
    {
      "cell_type": "code",
      "source": [
        "list_a=[1,2,3]\n",
        "list_b=[4,5,6]\n",
        "list_a.extend(list_b)\n",
        "list_a\n",
        "list_b"
      ],
      "metadata": {
        "colab": {
          "base_uri": "https://localhost:8080/"
        },
        "id": "E-k18OiPUIGb",
        "outputId": "c4db4d00-bc78-4279-a853-c59bb49fc140"
      },
      "execution_count": null,
      "outputs": [
        {
          "output_type": "execute_result",
          "data": {
            "text/plain": [
              "[4, 5, 6]"
            ]
          },
          "metadata": {},
          "execution_count": 9
        }
      ]
    },
    {
      "cell_type": "code",
      "source": [
        "list_a=[0,1,2,3,4,5]\n",
        "del list_a[1]\n",
        "print(\"del list_a[1]:\",list_a)\n",
        "list_a.pop(2)\n",
        "print(\"pop(2):\",list_a)"
      ],
      "metadata": {
        "colab": {
          "base_uri": "https://localhost:8080/"
        },
        "id": "8VK4NkdoUUQ4",
        "outputId": "161266dc-5d31-48d3-c684-c0939c36dd7a"
      },
      "execution_count": null,
      "outputs": [
        {
          "output_type": "stream",
          "name": "stdout",
          "text": [
            "del list_a[1]: [0, 2, 3, 4, 5]\n",
            "pop(2): [0, 2, 4, 5]\n"
          ]
        }
      ]
    },
    {
      "cell_type": "code",
      "source": [
        "list_b=[0,1,2,3,4,5,6]\n",
        "del list_b[3:6]\n",
        "print(list_b)\n",
        "list_c=[0,1,2,3,4,5,6]\n",
        "del list_c[:3]\n",
        "print(list_c)\n",
        "list_d=[0,1,2,3,4,5,6]\n",
        "del list_d[3:]\n",
        "print(list_d)"
      ],
      "metadata": {
        "colab": {
          "base_uri": "https://localhost:8080/"
        },
        "id": "bx5bZtv0Uubv",
        "outputId": "5acb0efa-42b6-4cd7-a745-7d40a4a708bf"
      },
      "execution_count": null,
      "outputs": [
        {
          "output_type": "stream",
          "name": "stdout",
          "text": [
            "[0, 1, 2, 6]\n",
            "[3, 4, 5, 6]\n",
            "[0, 1, 2]\n"
          ]
        }
      ]
    },
    {
      "cell_type": "code",
      "source": [],
      "metadata": {
        "id": "PuHqBleKWqet"
      },
      "execution_count": null,
      "outputs": []
    },
    {
      "cell_type": "code",
      "source": [
        "numbers=[1,2,3,4,5,6,7,8]\n",
        "numbers[0:5:2]\n",
        "numbers=[1,2,3,4,5,6,7,8]\n",
        "numbers[::-1]"
      ],
      "metadata": {
        "colab": {
          "base_uri": "https://localhost:8080/"
        },
        "id": "LnmL6GnpVnw-",
        "outputId": "3c8f79a5-d26e-4865-d8ef-4ffa213dfe65"
      },
      "execution_count": null,
      "outputs": [
        {
          "output_type": "execute_result",
          "data": {
            "text/plain": [
              "[8, 7, 6, 5, 4, 3, 2, 1]"
            ]
          },
          "metadata": {},
          "execution_count": 15
        }
      ]
    },
    {
      "cell_type": "code",
      "source": [
        "list_c=[1,2,1,2]\n",
        "list_c.remove(2)\n",
        "list_c"
      ],
      "metadata": {
        "colab": {
          "base_uri": "https://localhost:8080/"
        },
        "id": "uZlgUfIhVyoX",
        "outputId": "b0bc02fc-c282-45ed-8a19-ef3a4e816d76"
      },
      "execution_count": null,
      "outputs": [
        {
          "output_type": "execute_result",
          "data": {
            "text/plain": [
              "[1, 1, 2]"
            ]
          },
          "metadata": {},
          "execution_count": 16
        }
      ]
    },
    {
      "cell_type": "code",
      "source": [
        "list_d=[0,1,2,3,4,5]\n",
        "list_d.clear()\n",
        "list_d"
      ],
      "metadata": {
        "colab": {
          "base_uri": "https://localhost:8080/"
        },
        "id": "qMe-EEyPWAnL",
        "outputId": "abe8e71d-a47d-46df-9215-fd903d060a37"
      },
      "execution_count": null,
      "outputs": [
        {
          "output_type": "execute_result",
          "data": {
            "text/plain": [
              "[]"
            ]
          },
          "metadata": {},
          "execution_count": 21
        }
      ]
    },
    {
      "cell_type": "code",
      "source": [
        "list_e=[52,273,103,32,275,1,7]\n",
        "list_e.sort()\n",
        "list_e\n",
        "list_e.sort(reverse=True)\n",
        "list_e"
      ],
      "metadata": {
        "colab": {
          "base_uri": "https://localhost:8080/"
        },
        "id": "z8AKO6YyW9jI",
        "outputId": "953a1485-3f46-470e-c1c2-f474f5525019"
      },
      "execution_count": null,
      "outputs": [
        {
          "output_type": "execute_result",
          "data": {
            "text/plain": [
              "[275, 273, 103, 52, 32, 7, 1]"
            ]
          },
          "metadata": {},
          "execution_count": 22
        }
      ]
    },
    {
      "cell_type": "code",
      "source": [
        "list_a=[273,32,103,57,52]\n",
        "print(273 in list_a)\n",
        "print(99 in list_a)\n",
        "print(100 in list_a)\n",
        "print(52 in list_a)"
      ],
      "metadata": {
        "colab": {
          "base_uri": "https://localhost:8080/"
        },
        "id": "DpyjQ9sNXLeP",
        "outputId": "cdb05558-1dfa-4ecb-8e25-f2692b81b4a7"
      },
      "execution_count": null,
      "outputs": [
        {
          "output_type": "stream",
          "name": "stdout",
          "text": [
            "True\n",
            "False\n",
            "False\n",
            "True\n"
          ]
        }
      ]
    },
    {
      "cell_type": "code",
      "source": [
        "list_a=[273,32,103,57,52]\n",
        "273 not in list_a"
      ],
      "metadata": {
        "colab": {
          "base_uri": "https://localhost:8080/"
        },
        "id": "rR7SBu0LXYNo",
        "outputId": "a7c4dba2-c5fe-4d62-ba9a-4782a7270c6c"
      },
      "execution_count": null,
      "outputs": [
        {
          "output_type": "execute_result",
          "data": {
            "text/plain": [
              "False"
            ]
          },
          "metadata": {},
          "execution_count": 26
        }
      ]
    },
    {
      "cell_type": "code",
      "source": [
        "for i in range(100):\n",
        "    print(\"출력\")"
      ],
      "metadata": {
        "colab": {
          "base_uri": "https://localhost:8080/"
        },
        "id": "2VscuUWPXnxk",
        "outputId": "1fec8bb4-74d6-44ea-a91f-865c70eb238d"
      },
      "execution_count": null,
      "outputs": [
        {
          "output_type": "stream",
          "name": "stdout",
          "text": [
            "출력\n",
            "출력\n",
            "출력\n",
            "출력\n",
            "출력\n",
            "출력\n",
            "출력\n",
            "출력\n",
            "출력\n",
            "출력\n",
            "출력\n",
            "출력\n",
            "출력\n",
            "출력\n",
            "출력\n",
            "출력\n",
            "출력\n",
            "출력\n",
            "출력\n",
            "출력\n",
            "출력\n",
            "출력\n",
            "출력\n",
            "출력\n",
            "출력\n",
            "출력\n",
            "출력\n",
            "출력\n",
            "출력\n",
            "출력\n",
            "출력\n",
            "출력\n",
            "출력\n",
            "출력\n",
            "출력\n",
            "출력\n",
            "출력\n",
            "출력\n",
            "출력\n",
            "출력\n",
            "출력\n",
            "출력\n",
            "출력\n",
            "출력\n",
            "출력\n",
            "출력\n",
            "출력\n",
            "출력\n",
            "출력\n",
            "출력\n",
            "출력\n",
            "출력\n",
            "출력\n",
            "출력\n",
            "출력\n",
            "출력\n",
            "출력\n",
            "출력\n",
            "출력\n",
            "출력\n",
            "출력\n",
            "출력\n",
            "출력\n",
            "출력\n",
            "출력\n",
            "출력\n",
            "출력\n",
            "출력\n",
            "출력\n",
            "출력\n",
            "출력\n",
            "출력\n",
            "출력\n",
            "출력\n",
            "출력\n",
            "출력\n",
            "출력\n",
            "출력\n",
            "출력\n",
            "출력\n",
            "출력\n",
            "출력\n",
            "출력\n",
            "출력\n",
            "출력\n",
            "출력\n",
            "출력\n",
            "출력\n",
            "출력\n",
            "출력\n",
            "출력\n",
            "출력\n",
            "출력\n",
            "출력\n",
            "출력\n",
            "출력\n",
            "출력\n",
            "출력\n",
            "출력\n",
            "출력\n"
          ]
        }
      ]
    },
    {
      "cell_type": "code",
      "source": [
        "array=[273,32,103,57,52]\n",
        "for element in array:\n",
        "    print(element)"
      ],
      "metadata": {
        "colab": {
          "base_uri": "https://localhost:8080/"
        },
        "id": "kn_I2Z3jYWl0",
        "outputId": "e8a5ac16-3daf-4e7d-e705-85ae10a95c62"
      },
      "execution_count": null,
      "outputs": [
        {
          "output_type": "stream",
          "name": "stdout",
          "text": [
            "273\n",
            "32\n",
            "103\n",
            "57\n",
            "52\n"
          ]
        }
      ]
    },
    {
      "cell_type": "code",
      "source": [
        "for character in \"안녕하세요\":\n",
        "    print(\"-\", character)"
      ],
      "metadata": {
        "colab": {
          "base_uri": "https://localhost:8080/"
        },
        "id": "oqL4eiPKYkvg",
        "outputId": "2d5f4c31-c63b-4636-a0a2-55cb9ace8bb3"
      },
      "execution_count": null,
      "outputs": [
        {
          "output_type": "stream",
          "name": "stdout",
          "text": [
            "- 안\n",
            "- 녕\n",
            "- 하\n",
            "- 세\n",
            "- 요\n"
          ]
        }
      ]
    },
    {
      "cell_type": "code",
      "source": [
        "list_of_list=[\n",
        "    [1,2,3],\n",
        "    [4,5,6,7],\n",
        "    [8,9]\n",
        "]\n",
        "for item in list_of_list:\n",
        "    for item in item:\n",
        "        print(item)"
      ],
      "metadata": {
        "colab": {
          "base_uri": "https://localhost:8080/"
        },
        "id": "NTnOkU4eYzk3",
        "outputId": "bd30f703-dd16-4ce4-c3d0-f71bd032600d"
      },
      "execution_count": null,
      "outputs": [
        {
          "output_type": "stream",
          "name": "stdout",
          "text": [
            "1\n",
            "2\n",
            "3\n",
            "4\n",
            "5\n",
            "6\n",
            "7\n",
            "8\n",
            "9\n"
          ]
        }
      ]
    },
    {
      "cell_type": "code",
      "source": [
        "a=[1,2,3,4]\n",
        "b=[*a,*a]\n",
        "b"
      ],
      "metadata": {
        "colab": {
          "base_uri": "https://localhost:8080/"
        },
        "id": "Se5SzvYYZbim",
        "outputId": "dacdd46b-62e3-4e60-a3f4-fe8997825005"
      },
      "execution_count": null,
      "outputs": [
        {
          "output_type": "execute_result",
          "data": {
            "text/plain": [
              "[1, 2, 3, 4, 1, 2, 3, 4]"
            ]
          },
          "metadata": {},
          "execution_count": 37
        }
      ]
    },
    {
      "cell_type": "code",
      "source": [
        "a=[1,2,3,4]\n",
        "a.append(5)\n",
        "a"
      ],
      "metadata": {
        "colab": {
          "base_uri": "https://localhost:8080/"
        },
        "id": "999M_k_jaE6-",
        "outputId": "b44e01c6-d761-4f0b-8a72-47b05dfba565"
      },
      "execution_count": null,
      "outputs": [
        {
          "output_type": "execute_result",
          "data": {
            "text/plain": [
              "[1, 2, 3, 4, 5]"
            ]
          },
          "metadata": {},
          "execution_count": 38
        }
      ]
    },
    {
      "cell_type": "code",
      "source": [
        "b=[1,2,3,4]\n",
        "c=[*b,5]\n",
        "b\n",
        "c"
      ],
      "metadata": {
        "colab": {
          "base_uri": "https://localhost:8080/"
        },
        "id": "IQO4Jo2baI0I",
        "outputId": "454ec7e4-08b3-469a-9339-03595b19529b"
      },
      "execution_count": null,
      "outputs": [
        {
          "output_type": "execute_result",
          "data": {
            "text/plain": [
              "[1, 2, 3, 4, 5]"
            ]
          },
          "metadata": {},
          "execution_count": 39
        }
      ]
    },
    {
      "cell_type": "code",
      "source": [
        "list_a=[0,1,2,3,4,5,6,7]\n",
        "print(list_a.extend(list_a))\n",
        "print(list_a.append(10))\n",
        "print(list_a.insert(3,0))\n",
        "print(list_a.remove(3))\n",
        "print(list_a.pop(3))\n",
        "print(list_a.clear())"
      ],
      "metadata": {
        "id": "1OC6J1uGaNP5"
      },
      "execution_count": null,
      "outputs": []
    },
    {
      "cell_type": "code",
      "source": [
        "numbers=[273,103,5,32,65,9,72,800,99]\n",
        "for number in numbers:\n",
        "    if number>100:\n",
        "        print(\"-100 이상의 수\",number)"
      ],
      "metadata": {
        "colab": {
          "base_uri": "https://localhost:8080/"
        },
        "id": "1Zdupiv7bPj4",
        "outputId": "f5937d0e-ebce-4c5c-f3fe-c4417e84283d"
      },
      "execution_count": null,
      "outputs": [
        {
          "output_type": "stream",
          "name": "stdout",
          "text": [
            "-100 이상의 수 273\n",
            "-100 이상의 수 103\n",
            "-100 이상의 수 800\n"
          ]
        }
      ]
    },
    {
      "cell_type": "code",
      "source": [
        "#@title 기본 제목 텍스트\n",
        "print(\"#홀짝수출력/\")\n",
        "numbers=[273,103,5,32,65,9,72,800,99]\n",
        "for number in numbers:\n",
        "    if (number)%2==0:\n",
        "        print(number,\"는 짝수입니다\")\n",
        "    else:\n",
        "        print(number,\"는 홀수입니다\")\n",
        "\n",
        "print()\n",
        "print(\"#자릿수 출력\")\n",
        "for number in numbers:\n",
        "    if number<10:\n",
        "        print(number,\"는 1 자릿수입니다\")\n",
        "    elif 10<=number<100:\n",
        "        print(number,\"는 2자릿수입니다\")\n",
        "    elif 100<=number<1000:\n",
        "        print(number,\"는 3자릿수입니다\")"
      ],
      "metadata": {
        "colab": {
          "base_uri": "https://localhost:8080/"
        },
        "id": "mdbhgM2Kbfd9",
        "outputId": "5f12bd39-0b21-4f40-81f9-9fbc25d561ee"
      },
      "execution_count": null,
      "outputs": [
        {
          "output_type": "stream",
          "name": "stdout",
          "text": [
            "#홀짝수출력/\n",
            "273 는 홀수입니다\n",
            "103 는 홀수입니다\n",
            "5 는 홀수입니다\n",
            "32 는 짝수입니다\n",
            "65 는 홀수입니다\n",
            "9 는 홀수입니다\n",
            "72 는 짝수입니다\n",
            "800 는 짝수입니다\n",
            "99 는 홀수입니다\n",
            "\n",
            "#자릿수 출력\n",
            "273 는 3자릿수입니다\n",
            "103 는 3자릿수입니다\n",
            "5 는 1 자릿수입니다\n",
            "32 는 2자릿수입니다\n",
            "65 는 2자릿수입니다\n",
            "9 는 1 자릿수입니다\n",
            "72 는 2자릿수입니다\n",
            "800 는 3자릿수입니다\n",
            "99 는 2자릿수입니다\n"
          ]
        }
      ]
    },
    {
      "cell_type": "code",
      "source": [
        "numbers=[1,2,3,4,5,6,7,8,9]\n",
        "output=[[],[],[]]\n",
        "for number in numbers:\n",
        "    output[0].append(number)\n",
        "    \n",
        "print(output)"
      ],
      "metadata": {
        "colab": {
          "base_uri": "https://localhost:8080/"
        },
        "id": "jnNkUamVbovA",
        "outputId": "56102741-47df-4a0a-8168-82d22eec4a95"
      },
      "execution_count": null,
      "outputs": [
        {
          "output_type": "stream",
          "name": "stdout",
          "text": [
            "[[1, 2, 3, 4, 5, 6, 7, 8, 9], [], []]\n"
          ]
        }
      ]
    },
    {
      "cell_type": "code",
      "source": [
        "numbers=[1,2,3,4,5,6,7,8,9]\n",
        "for i in range(0,len(numbers)//2):\n",
        "    j=\n",
        "    print(f\"i={i},j={j}\")\n",
        "    numbers[j] = numbers[j] ** 2\n",
        "    print(numbers)"
      ],
      "metadata": {
        "colab": {
          "base_uri": "https://localhost:8080/",
          "height": 245
        },
        "id": "h1oH7uNwb72s",
        "outputId": "b3ee60fe-4514-4e86-be4b-8b1f76151105"
      },
      "execution_count": null,
      "outputs": [
        {
          "output_type": "stream",
          "name": "stdout",
          "text": [
            "i=0,j=(1, 3, 5, 7)\n"
          ]
        },
        {
          "output_type": "error",
          "ename": "TypeError",
          "evalue": "ignored",
          "traceback": [
            "\u001b[0;31m---------------------------------------------------------------------------\u001b[0m",
            "\u001b[0;31mTypeError\u001b[0m                                 Traceback (most recent call last)",
            "\u001b[0;32m<ipython-input-69-1d8ded70f825>\u001b[0m in \u001b[0;36m<module>\u001b[0;34m\u001b[0m\n\u001b[1;32m      3\u001b[0m     \u001b[0mj\u001b[0m\u001b[0;34m=\u001b[0m\u001b[0;36m1\u001b[0m\u001b[0;34m,\u001b[0m\u001b[0;36m3\u001b[0m\u001b[0;34m,\u001b[0m\u001b[0;36m5\u001b[0m\u001b[0;34m,\u001b[0m\u001b[0;36m7\u001b[0m\u001b[0;34m\u001b[0m\u001b[0;34m\u001b[0m\u001b[0m\n\u001b[1;32m      4\u001b[0m     \u001b[0mprint\u001b[0m\u001b[0;34m(\u001b[0m\u001b[0;34mf\"i={i},j={j}\"\u001b[0m\u001b[0;34m)\u001b[0m\u001b[0;34m\u001b[0m\u001b[0;34m\u001b[0m\u001b[0m\n\u001b[0;32m----> 5\u001b[0;31m     \u001b[0mnumbers\u001b[0m\u001b[0;34m[\u001b[0m\u001b[0mj\u001b[0m\u001b[0;34m]\u001b[0m \u001b[0;34m=\u001b[0m \u001b[0mnumbers\u001b[0m\u001b[0;34m[\u001b[0m\u001b[0mj\u001b[0m\u001b[0;34m]\u001b[0m \u001b[0;34m**\u001b[0m \u001b[0;36m2\u001b[0m\u001b[0;34m\u001b[0m\u001b[0;34m\u001b[0m\u001b[0m\n\u001b[0m\u001b[1;32m      6\u001b[0m     \u001b[0mprint\u001b[0m\u001b[0;34m(\u001b[0m\u001b[0mnumbers\u001b[0m\u001b[0;34m)\u001b[0m\u001b[0;34m\u001b[0m\u001b[0;34m\u001b[0m\u001b[0m\n",
            "\u001b[0;31mTypeError\u001b[0m: list indices must be integers or slices, not tuple"
          ]
        }
      ]
    },
    {
      "cell_type": "code",
      "source": [],
      "metadata": {
        "id": "HhaiaSIZhBNZ"
      },
      "execution_count": null,
      "outputs": []
    }
  ]
}
{
  "nbformat": 4,
  "nbformat_minor": 0,
  "metadata": {
    "colab": {
      "provenance": [],
      "collapsed_sections": [],
      "authorship_tag": "ABX9TyMYo0vLStIzveiw+mjTJUzO",
      "include_colab_link": true
    },
    "kernelspec": {
      "name": "python3",
      "display_name": "Python 3"
    },
    "language_info": {
      "name": "python"
    }
  },
  "cells": [
    {
      "cell_type": "markdown",
      "metadata": {
        "id": "view-in-github",
        "colab_type": "text"
      },
      "source": [
        "<a href=\"https://colab.research.google.com/github/chaehchaeh/MajorAI-AIprogramming/blob/main/AIP%EA%B3%BC%EC%A0%9C1.ipynb\" target=\"_parent\"><img src=\"https://colab.research.google.com/assets/colab-badge.svg\" alt=\"Open In Colab\"/></a>"
      ]
    },
    {
      "cell_type": "code",
      "execution_count": null,
      "metadata": {
        "colab": {
          "base_uri": "https://localhost:8080/"
        },
        "id": "AgzjEJYIBOqe",
        "outputId": "2534fa8b-9b98-4c5b-f76b-e43b818e4aee"
      },
      "outputs": [
        {
          "output_type": "stream",
          "name": "stdout",
          "text": [
            "구입하고자 하는 과일의 개수를 각각 입력하세요\n",
            "사과:1\n",
            "배:2\n",
            "귤3\n",
            "바나나1\n",
            "토마토2\n",
            "총 금액은 4000 원 입니다\n",
            "지불금액을 입력하세요:5000\n",
            "거스름돈은 1000 원 입니다.\n"
          ]
        }
      ],
      "source": [
        "#문제1\n",
        "print(\"구입하고자 하는 과일의 개수를 각각 입력하세요\")\n",
        "apple=int(input(\"사과:\"))\n",
        "pear=int(input(\"배:\"))\n",
        "mandarine=int(input(\"귤\"))\n",
        "banana=int(input(\"바나나\"))\n",
        "tomato=int(input(\"토마토\"))                        \n",
        "total=apple*500+pear*800+mandarine*400+banana*300+tomato*200\n",
        "print(\"총 금액은\", total,\"원 입니다\")\n",
        "\n",
        "money=int(input(\"지불금액을 입력하세요:\"))\n",
        "print(\"거스름돈은\", money-total,\"원 입니다.\")"
      ]
    },
    {
      "cell_type": "code",
      "source": [
        "#문제2\n",
        "MyTime=int(input(\"시간을 초단위로 입력하세요>\"))\n",
        "x=60\n",
        "y=24\n",
        "Mday=(int((MyTime-(MyTime%(x*x*y)))/(x*x*y)))\n",
        "Mhour=(int(((MyTime%(x*x*y))-(MyTime%(x*x)))/(x*x)))\n",
        "Mmin=(int(((MyTime%(x*x))-(MyTime%x))/x))\n",
        "Msec=MyTime%x\n",
        "print(MyTime,\"초는\",Mday,\"일\",Mhour,\"시간\",Mmin,\"분\",Msec,\"초입니다\")"
      ],
      "metadata": {
        "colab": {
          "base_uri": "https://localhost:8080/"
        },
        "id": "-Nkdi8c-DXXQ",
        "outputId": "14297af1-d717-479f-a96c-d4d4644ba2c7"
      },
      "execution_count": null,
      "outputs": [
        {
          "output_type": "stream",
          "name": "stdout",
          "text": [
            "시간을 초단위로 입력하세요>100000\n",
            "100000 초는 1 일 3 시간 46 분 40 초입니다\n"
          ]
        }
      ]
    },
    {
      "cell_type": "code",
      "source": [
        "#문제3\n",
        "import numpy as np\n",
        "GetNum=list()\n",
        "GetNum.append(int(input(\"정수를 입력하세요>\")))\n",
        "GetNum.append(int(input(\"정수를 입력하세요>\")))\n",
        "GetNum.append(int(input(\"정수를 입력하세요>\")))\n",
        "GetNum.append(int(input(\"정수를 입력하세요>\")))\n",
        "GetNum.append(int(input(\"정수를 입력하세요>\")))\n",
        "GetNum.append(int(input(\"정수를 입력하세요>\")))\n",
        "GetNum.append(int(input(\"정수를 입력하세요>\")))\n",
        "GetNum.append(int(input(\"정수를 입력하세요>\")))\n",
        "GetNum.append(int(input(\"정수를 입력하세요>\")))\n",
        "GetNum.append(int(input(\"정수를 입력하세요>\")))\n",
        "\n",
        "print(\"최소값:\", min(GetNum))\n",
        "print(\"최대값:\", max(GetNum))\n",
        "print(\"중앙값:\", int(np.median(GetNum)))"
      ],
      "metadata": {
        "colab": {
          "base_uri": "https://localhost:8080/"
        },
        "id": "DSKiQzr5BfAH",
        "outputId": "5d12e45e-ec07-403f-e485-deb7e3db1c65"
      },
      "execution_count": null,
      "outputs": [
        {
          "output_type": "stream",
          "name": "stdout",
          "text": [
            "정수를 입력하세요>22\n",
            "정수를 입력하세요>3\n",
            "정수를 입력하세요>10\n",
            "정수를 입력하세요>4\n",
            "정수를 입력하세요>193\n",
            "정수를 입력하세요>18\n",
            "정수를 입력하세요>11\n",
            "정수를 입력하세요>13\n",
            "정수를 입력하세요>9\n",
            "정수를 입력하세요>10\n",
            "최소값: 3\n",
            "최대값: 193\n",
            "중앙값: 10\n"
          ]
        }
      ]
    },
    {
      "cell_type": "code",
      "source": [
        "#문제4\n",
        "score={'이영희': {'국어':80,'영어':85,'수학':90},\n",
        "       '김철수': {'국어':85,'영어':95,'수학':75},\n",
        "       '박민희': {'국어':85,'영어':85,'수학':85},\n",
        "       '최정현': {'국어':90,'영어':80,'수학':85}\n",
        "       }\n",
        "for i in score:\n",
        "    if i==\"이영희\":\n",
        "        print(\"이영희학생의 평균점수는\",(int(sum(score['이영희'].values())/3)),\"점입니다\")\n",
        "    if i==\"김철수\":\n",
        "        print(\"김철수학생의 평균점수는\",(int(sum(score['김철수'].values())/3)),\"점입니다\")\n",
        "    if i==\"박민희\":\n",
        "        print(\"박민희학생의 평균점수는\",(int(sum(score['박민희'].values())/3)),\"점입니다\")\n",
        "    if i==\"최정현\":\n",
        "        print(\"최정현학생의 평균점수는\",(int(sum(score['최정현'].values())/3)),\"점입니다\")\n",
        "print()\n",
        "print(\"각 과목별 평균점수는\",\"국어:\",(score[\"이영희\"][\"국어\"]+score[\"김철수\"][\"국어\"]+score[\"박민희\"][\"국어\"]+score[\"최정현\"][\"국어\"])/4,\n",
        "      \"영어:\",(score[\"이영희\"][\"영어\"]+score[\"김철수\"][\"영어\"]+score[\"박민희\"][\"영어\"]+score[\"최정현\"][\"영어\"])/4,\n",
        "      \"수학\",(score[\"이영희\"][\"수학\"]+score[\"김철수\"][\"수학\"]+score[\"박민희\"][\"수학\"]+score[\"최정현\"][\"수학\"])/4,\"점 입니다.\")"
      ],
      "metadata": {
        "id": "DE8_xRNtFtFq",
        "colab": {
          "base_uri": "https://localhost:8080/"
        },
        "outputId": "58f032af-dc20-4435-ec03-9ffd70fb4646"
      },
      "execution_count": null,
      "outputs": [
        {
          "output_type": "stream",
          "name": "stdout",
          "text": [
            "이영희학생의 평균점수는 85 점입니다\n",
            "김철수학생의 평균점수는 85 점입니다\n",
            "박민희학생의 평균점수는 85 점입니다\n",
            "최정현학생의 평균점수는 85 점입니다\n",
            "\n",
            "각 과목별 평균점수는 국어: 85.0 영어: 86.25 수학 83.75 점 입니다.\n"
          ]
        }
      ]
    },
    {
      "cell_type": "code",
      "source": [
        "#문제5\n",
        "for i in reversed(range(1,8+1)):\n",
        "    print(\" \"*(14-i),\"*\"*(2*i-1))"
      ],
      "metadata": {
        "colab": {
          "base_uri": "https://localhost:8080/"
        },
        "id": "AjJt8yEXFwwX",
        "outputId": "91c1f394-9590-414d-d45e-c9318e0e6a26"
      },
      "execution_count": 184,
      "outputs": [
        {
          "output_type": "stream",
          "name": "stdout",
          "text": [
            "       ***************\n",
            "        *************\n",
            "         ***********\n",
            "          *********\n",
            "           *******\n",
            "            *****\n",
            "             ***\n",
            "              *\n"
          ]
        }
      ]
    },
    {
      "cell_type": "code",
      "source": [],
      "metadata": {
        "id": "MQHgVpmvGm1p",
        "colab": {
          "base_uri": "https://localhost:8080/",
          "height": 209
        },
        "outputId": "87b37c32-e15d-41e8-9260-76834f5557ae"
      },
      "execution_count": null,
      "outputs": [
        {
          "output_type": "error",
          "ename": "KeyError",
          "evalue": "ignored",
          "traceback": [
            "\u001b[0;31m---------------------------------------------------------------------------\u001b[0m",
            "\u001b[0;31mKeyError\u001b[0m                                  Traceback (most recent call last)",
            "\u001b[0;32m<ipython-input-123-6fcc09b5072a>\u001b[0m in \u001b[0;36m<module>\u001b[0;34m\u001b[0m\n\u001b[1;32m      4\u001b[0m        \u001b[0;34m'최정현'\u001b[0m\u001b[0;34m:\u001b[0m \u001b[0;34m{\u001b[0m\u001b[0;34m'국어'\u001b[0m\u001b[0;34m:\u001b[0m\u001b[0;36m90\u001b[0m\u001b[0;34m,\u001b[0m\u001b[0;34m'영어'\u001b[0m\u001b[0;34m:\u001b[0m\u001b[0;36m80\u001b[0m\u001b[0;34m,\u001b[0m\u001b[0;34m'수학'\u001b[0m\u001b[0;34m:\u001b[0m\u001b[0;36m85\u001b[0m\u001b[0;34m}\u001b[0m\u001b[0;34m\u001b[0m\u001b[0;34m\u001b[0m\u001b[0m\n\u001b[1;32m      5\u001b[0m        }\n\u001b[0;32m----> 6\u001b[0;31m \u001b[0mscore\u001b[0m\u001b[0;34m[\u001b[0m\u001b[0;34m\"\"\u001b[0m\u001b[0;34m]\u001b[0m\u001b[0;34m.\u001b[0m\u001b[0mvalues\u001b[0m\u001b[0;34m(\u001b[0m\u001b[0;34m)\u001b[0m\u001b[0;34m\u001b[0m\u001b[0;34m\u001b[0m\u001b[0m\n\u001b[0m",
            "\u001b[0;31mKeyError\u001b[0m: ''"
          ]
        }
      ]
    },
    {
      "cell_type": "code",
      "source": [],
      "metadata": {
        "id": "hC8UFh4zINjo",
        "colab": {
          "base_uri": "https://localhost:8080/"
        },
        "outputId": "0d7d77ca-00bc-4da0-f907-65b373957f90"
      },
      "execution_count": null,
      "outputs": [
        {
          "output_type": "stream",
          "name": "stdout",
          "text": [
            "dict_values([{'국어': 80, '영어': 85, '수학': 90}, {'국어': 85, '영어': 95, '수학': 75}, {'국어': 85, '영어': 85, '수학': 85}, {'국어': 90, '영어': 80, '수학': 85}])\n"
          ]
        }
      ]
    },
    {
      "cell_type": "code",
      "source": [],
      "metadata": {
        "id": "c-7AnVe8mWoj"
      },
      "execution_count": null,
      "outputs": []
    }
  ]
}
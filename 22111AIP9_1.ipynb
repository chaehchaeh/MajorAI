{
  "nbformat": 4,
  "nbformat_minor": 0,
  "metadata": {
    "colab": {
      "provenance": [],
      "collapsed_sections": [],
      "authorship_tag": "ABX9TyMwYCEk/JJmKSaR4UCfQohA",
      "include_colab_link": true
    },
    "kernelspec": {
      "name": "python3",
      "display_name": "Python 3"
    },
    "language_info": {
      "name": "python"
    }
  },
  "cells": [
    {
      "cell_type": "markdown",
      "metadata": {
        "id": "view-in-github",
        "colab_type": "text"
      },
      "source": [
        "<a href=\"https://colab.research.google.com/github/chaehchaeh/MajorAI-AIprogramming/blob/main/22111AIP9_1.ipynb\" target=\"_parent\"><img src=\"https://colab.research.google.com/assets/colab-badge.svg\" alt=\"Open In Colab\"/></a>"
      ]
    },
    {
      "cell_type": "code",
      "execution_count": null,
      "metadata": {
        "id": "9xsOp70_oLFJ"
      },
      "outputs": [],
      "source": []
    },
    {
      "cell_type": "markdown",
      "source": [
        "##객체지향 프로그래밍(object oriented programming):\n",
        "객체들간에 상호작용하는 방식으로 프로그램을 개발하는 방법\n",
        "\n",
        "-객체:속성과 메소드를 갖는 것\n",
        "\n",
        "-객체지향 프로그래밍: 객체를 만들고 객체들의 상호작용을 중심으로 개발하는 방법론"
      ],
      "metadata": {
        "id": "LR-4QBTlugTZ"
      }
    },
    {
      "cell_type": "code",
      "source": [
        "##객체를 직접 만들기\n",
        "#소스코드: object_1_basic.py\n",
        "students=[\n",
        "    {\"name\":\"윤인성\",\"korean\":87,\"math\":98,\"english\":88,\"science\":95},\n",
        "    {\"name\":\"연하진\",\"korean\":92,\"math\":98,\"english\":96,\"science\":98},\n",
        "    {\"name\":\"구지연\",\"korean\":76,\"math\":96,\"english\":94,\"science\":90},\n",
        "    {\"name\":\"나선주\",\"korean\":98,\"math\":92,\"english\":96,\"science\":92},\n",
        "    {\"name\":\"윤아린\",\"korean\":95,\"math\":98,\"english\":98,\"science\":98},\n",
        "    {\"name\":\"윤명월\",\"korean\":64,\"math\":88,\"english\":82,\"science\":92}\n",
        "]\n",
        "#학생을 한 명씩 반복합니다.\n",
        "print(\"이름\",\"총점\",\"평균\", sep=\"\\t\")\n",
        "for student in students:\n",
        "    #점수의 총합과 평균을 구합니다.\n",
        "    score_sum=student[\"korean\"]+student[\"math\"]+\\\n",
        "                student[\"english\"]+student[\"science\"]\n",
        "    score_average=score_sum/4\n",
        "    #출력합니다.\n",
        "    print(student[\"name\"], score_sum, score_average,sep=\"\\t\")"
      ],
      "metadata": {
        "colab": {
          "base_uri": "https://localhost:8080/"
        },
        "id": "ssdzRIIMu1cr",
        "outputId": "ec6b266a-4358-4222-a52c-829f43fe5fd2"
      },
      "execution_count": null,
      "outputs": [
        {
          "output_type": "stream",
          "name": "stdout",
          "text": [
            "이름\t총점\t평균\n",
            "윤인성\t368\t92.0\n",
            "연하진\t384\t96.0\n",
            "구지연\t356\t89.0\n",
            "나선주\t378\t94.5\n",
            "윤아린\t389\t97.25\n",
            "윤명월\t326\t81.5\n"
          ]
        }
      ]
    },
    {
      "cell_type": "code",
      "source": [
        "#함수를 이용해 객체 만들기\n",
        "##소스코드:object_2_dict.py\n",
        "#딕셔너리를 리턴하는 함수를 선언합니다\n",
        "def create_student(name,korean,math,english,science):\n",
        "    return{\n",
        "        \"name\":name,\n",
        "        \"korean\":korean,\n",
        "        \"math\":math,\n",
        "        \"english\":english,\n",
        "        \"science\":science\n",
        "    }\n",
        "#학생 리스트를 선언합니다.\n",
        "students=[\n",
        "    create_student(\"윤인성\",87,98,88,95),\n",
        "    create_student(\"연하진\",92,98,96,98),\n",
        "    create_student(\"구지연\",76,96,94,90),\n",
        "    create_student(\"나선주\",98,92,96,92),\n",
        "    create_student(\"윤아린\",95,98,98,98),\n",
        "    create_student(\"윤명월\",64,88,92,92)\n",
        "]\n",
        "#학생을 한 명씩 반복합니다.\n",
        "print(\"이름\",\"총점\",\"평균\",sep=\"\\t\")\n",
        "for student in students:\n",
        "    #점수의 총합과 평균을 구합니다.\n",
        "    score_sum=student[\"korean\"]+student[\"math\"]+student[\"english\"]+\\\n",
        "                student[\"science\"]\n",
        "    score_average=score_sum/4\n",
        "    #출력합니다.\n",
        "    print(student[\"name\"],score_sum,score_average,sep=\"\\t\")"
      ],
      "metadata": {
        "colab": {
          "base_uri": "https://localhost:8080/"
        },
        "id": "2zYqstELyrn_",
        "outputId": "2725d7d0-e752-484c-aa13-8c64221c9e59"
      },
      "execution_count": null,
      "outputs": [
        {
          "output_type": "stream",
          "name": "stdout",
          "text": [
            "이름\t총점\t평균\n",
            "윤인성\t368\t92.0\n",
            "연하진\t384\t96.0\n",
            "구지연\t356\t89.0\n",
            "나선주\t378\t94.5\n",
            "윤아린\t389\t97.25\n",
            "윤명월\t336\t84.0\n"
          ]
        }
      ]
    },
    {
      "cell_type": "code",
      "source": [
        "#객체를 처리하는 함수 만들기\n",
        "##소스코드: object_3_seperate.py\n",
        "#딕셔너리를 리턴하는 함수를 선언합니다.\n",
        "def create_student(name,korean,math,english,science):\n",
        "    return{\n",
        "        \"name\":korean,\n",
        "        \"math\":math,\n",
        "        \"english\":english,\n",
        "        \"science\":science\n",
        "    }\n",
        "#학생을 처리하는 함수를 선언합니다.\n",
        "def student_get_sum(student):\n",
        "    return student[\"korean\"]+student[\"math\"]+\\\n",
        "        student[\"english\"]+student[\"science\"]\n",
        "\n",
        "def student_get_average(student):\n",
        "    return student_get_sum(student)/4\n",
        "\n",
        "def student_to_string(student):\n",
        "    return \"{}\\t{}\\t{}\".format(\n",
        "        student[\"name\"],\n",
        "        student_get_sum(student),\n",
        "        student_get_average(student)\n",
        "    )\n",
        "#학생 리스트를 선언합니다.\n",
        "students=[\n",
        "    create_student(\"윤인성\",87,98,88,95),\n",
        "    create_student(\"연하진\",92,98,96,98),\n",
        "    create_student(\"구지연\",76,96,94,90),\n",
        "    create_student(\"나선주\",98,92,96,92),\n",
        "    create_student(\"윤아린\",95,98,98,98),\n",
        "    create_student(\"윤명월\",64,88,92,92)\n",
        "]\n",
        "#학생을 한 명씩 반복합니다.\n",
        "print(\"이름\",\"총점\",\"평균\",sep=\"\\t\")\n",
        "for student in student:\n",
        "    #출력합니다.\n",
        "    print(student_to_string(student))"
      ],
      "metadata": {
        "colab": {
          "base_uri": "https://localhost:8080/",
          "height": 354
        },
        "id": "RN1bYzjS3_Q3",
        "outputId": "8eddf380-bd56-485b-8730-d482a967deba"
      },
      "execution_count": null,
      "outputs": [
        {
          "output_type": "stream",
          "name": "stdout",
          "text": [
            "이름\t총점\t평균\n"
          ]
        },
        {
          "output_type": "error",
          "ename": "TypeError",
          "evalue": "ignored",
          "traceback": [
            "\u001b[0;31m---------------------------------------------------------------------------\u001b[0m",
            "\u001b[0;31mTypeError\u001b[0m                                 Traceback (most recent call last)",
            "\u001b[0;32m<ipython-input-16-6ffb6a998e2f>\u001b[0m in \u001b[0;36m<module>\u001b[0;34m\u001b[0m\n\u001b[1;32m     36\u001b[0m \u001b[0;32mfor\u001b[0m \u001b[0mstudent\u001b[0m \u001b[0;32min\u001b[0m \u001b[0mstudent\u001b[0m\u001b[0;34m:\u001b[0m\u001b[0;34m\u001b[0m\u001b[0;34m\u001b[0m\u001b[0m\n\u001b[1;32m     37\u001b[0m     \u001b[0;31m#출력합니다.\u001b[0m\u001b[0;34m\u001b[0m\u001b[0;34m\u001b[0m\u001b[0;34m\u001b[0m\u001b[0m\n\u001b[0;32m---> 38\u001b[0;31m     \u001b[0mprint\u001b[0m\u001b[0;34m(\u001b[0m\u001b[0mstudent_to_string\u001b[0m\u001b[0;34m(\u001b[0m\u001b[0mstudent\u001b[0m\u001b[0;34m)\u001b[0m\u001b[0;34m)\u001b[0m\u001b[0;34m\u001b[0m\u001b[0;34m\u001b[0m\u001b[0m\n\u001b[0m",
            "\u001b[0;32m<ipython-input-16-6ffb6a998e2f>\u001b[0m in \u001b[0;36mstudent_to_string\u001b[0;34m(student)\u001b[0m\n\u001b[1;32m     19\u001b[0m \u001b[0;32mdef\u001b[0m \u001b[0mstudent_to_string\u001b[0m\u001b[0;34m(\u001b[0m\u001b[0mstudent\u001b[0m\u001b[0;34m)\u001b[0m\u001b[0;34m:\u001b[0m\u001b[0;34m\u001b[0m\u001b[0;34m\u001b[0m\u001b[0m\n\u001b[1;32m     20\u001b[0m     return \"{}\\t{}\\t{}\".format(\n\u001b[0;32m---> 21\u001b[0;31m         \u001b[0mstudent\u001b[0m\u001b[0;34m[\u001b[0m\u001b[0;34m\"name\"\u001b[0m\u001b[0;34m]\u001b[0m\u001b[0;34m,\u001b[0m\u001b[0;34m\u001b[0m\u001b[0;34m\u001b[0m\u001b[0m\n\u001b[0m\u001b[1;32m     22\u001b[0m         \u001b[0mstudent_get_sum\u001b[0m\u001b[0;34m(\u001b[0m\u001b[0mstudent\u001b[0m\u001b[0;34m)\u001b[0m\u001b[0;34m,\u001b[0m\u001b[0;34m\u001b[0m\u001b[0;34m\u001b[0m\u001b[0m\n\u001b[1;32m     23\u001b[0m         \u001b[0mstudent_get_average\u001b[0m\u001b[0;34m(\u001b[0m\u001b[0mstudent\u001b[0m\u001b[0;34m)\u001b[0m\u001b[0;34m\u001b[0m\u001b[0;34m\u001b[0m\u001b[0m\n",
            "\u001b[0;31mTypeError\u001b[0m: string indices must be integers"
          ]
        }
      ]
    },
    {
      "cell_type": "markdown",
      "source": [
        "###생성자(constructor):클래스 이름과 같은 함수\n",
        "__init__함수를 이용해 객체 생성시 처리할 내용 작성\n",
        "\n",
        "\n",
        "```\n",
        "class 클래스 이름:\n",
        "    def __init__(self,추가적인 매개변수):\n",
        "        pass\n",
        "```\n",
        "클래스 내부함수는 반드시 첫번째 매개변수로 self를 입력해야한다\n",
        "\n",
        "self는 자기 자신을 나타내는 딕셔너리\n",
        "\n",
        "self.식별자 형태로 self가 가지고 있는 속성과 기능에 접근\n"
      ],
      "metadata": {
        "id": "4kc7oUJLo0Y0"
      }
    },
    {
      "cell_type": "code",
      "source": [
        "#클래스를 이용해 객체 만들기\n",
        "##클래스를 선언합니다.\n",
        "class Student:\n",
        "    def __init__(self, name, korean, math, english, science):\n",
        "        self.name=name\n",
        "        self.korean=korean\n",
        "        self.math=math\n",
        "        self.english=english\n",
        "        self.science=science\n",
        "#학생 리스트를 선언합니다.\n",
        "students=[\n",
        "    Student(\"윤인성\", 87,98,88,95)\n",
        "    Student(\"연하진\", 92,98,96,98)\n",
        "    Student(\"구지연\", 87,98,88,95)\n",
        "    Student(\"나선주\", 92,98,96,98)\n",
        "    Student(\"윤아린\", 87,98,88,95)\n",
        "    Student(\"윤명월\", 92,98,96,98)\n",
        "]\n",
        "\n",
        "#Student 인스턴스의 속성에 접근하는 방법\n",
        "students[0].name\n"
      ],
      "metadata": {
        "id": "FI04NHVXpL4M"
      },
      "execution_count": null,
      "outputs": []
    },
    {
      "cell_type": "markdown",
      "source": [
        "###메소드\n",
        "메소드 정의\n",
        "\n",
        "```\n",
        "class 클래스 이름:\n",
        "    def 메소드 이름(self, 추가적인 매개변수):\n",
        "        pass\n",
        "```\n",
        "첫번째 매개변수로 반드시 self를 넣어야함\n",
        "\n"
      ],
      "metadata": {
        "id": "WXEUFaZbp-1-"
      }
    },
    {
      "cell_type": "code",
      "source": [
        "##클래스 내부에 메소드 선언\n",
        "##소스코드:object_4_class.py\n",
        "#클래스를 선언합니다\n",
        "\n",
        "class Student:\n",
        "    def __init__(self, name, korean, math, english, science):\n",
        "        self.name=name\n",
        "        self.korean=korean\n",
        "        self.math=math\n",
        "        self.english=english\n",
        "        self.science=science\n",
        "\n",
        "    def get_sum(self):\n",
        "        return self.korean+self.math+\\\n",
        "                self.english+self.science\n",
        "    def get_average(self):\n",
        "        return self.get_sum()/4\n",
        "\n",
        "    def to_string(self):\n",
        "        return \"{}\\t{}\\t{}\".format(\\\n",
        "                                   self.name,\\\n",
        "                                   self.get_sum(),\\\n",
        "                                   self.get_average()\n",
        "                                   )\n",
        "#학생 리스트를 선언합니다.\n",
        "students= [\n",
        "    Student(\"윤인성\",87,98,88,95),\n",
        "    Student(\"연하진\",92,98,96,98),\n",
        "    Student(\"구지연\",76,96,94,90),\n",
        "    Student(\"나선주\",98,92,96,92),\n",
        "    Student(\"윤아린\",95,98,98,98),\n",
        "    Student(\"윤명월\",64,88,92,92)\n",
        "]\n",
        "\n",
        "#학생을 한 명씩 반복합니다\n",
        "print(\"이름\",\"총점\",\"평균\",sep=\"\\t\")\n",
        "for student in students:\n",
        "    #출력합니다\n",
        "    print(student.to_string())"
      ],
      "metadata": {
        "colab": {
          "base_uri": "https://localhost:8080/"
        },
        "id": "tJ5MqZ8VqLR4",
        "outputId": "612e56d0-cb43-4695-f5fa-e4c1b73ff522"
      },
      "execution_count": null,
      "outputs": [
        {
          "output_type": "stream",
          "name": "stdout",
          "text": [
            "이름\t총점\t평균\n",
            "윤인성\t368\t92.0\n",
            "연하진\t384\t96.0\n",
            "구지연\t356\t89.0\n",
            "나선주\t378\t94.5\n",
            "윤아린\t389\t97.25\n",
            "윤명월\t336\t84.0\n"
          ]
        }
      ]
    },
    {
      "cell_type": "code",
      "source": [
        "#문제1) 클래스를 이용해 이차 다항식(y=ax^2+bx+c)을 구현하는 객체를 생성하는 코드를 작성하시오\n",
        "class QPoly():\n",
        "    def __init__(self,a,b,c):\n",
        "        ...\n",
        "    def get_y(Self,x):\n",
        "f=QPoly(2,3,1)\n",
        "y=f.get_y(1)\n",
        "print(y)"
      ],
      "metadata": {
        "id": "DmTRXgBOqwE3"
      },
      "execution_count": null,
      "outputs": []
    }
  ]
}
{
  "nbformat": 4,
  "nbformat_minor": 0,
  "metadata": {
    "colab": {
      "provenance": [],
      "collapsed_sections": [],
      "authorship_tag": "ABX9TyMd68y8v2Ug8zT42xOQsJTq",
      "include_colab_link": true
    },
    "kernelspec": {
      "name": "python3",
      "display_name": "Python 3"
    },
    "language_info": {
      "name": "python"
    }
  },
  "cells": [
    {
      "cell_type": "markdown",
      "metadata": {
        "id": "view-in-github",
        "colab_type": "text"
      },
      "source": [
        "<a href=\"https://colab.research.google.com/github/chaehchaeh/MajorAI-AIprogramming/blob/main/221026AIP_midterm.ipynb\" target=\"_parent\"><img src=\"https://colab.research.google.com/assets/colab-badge.svg\" alt=\"Open In Colab\"/></a>"
      ]
    },
    {
      "cell_type": "markdown",
      "source": [
        "##문제1) 다음과 같이 사용자로부터 10진수를 입력받아 2진수로 바꿔 출력하는 프로그램을 작성하시오\n",
        "\n",
        "\n",
        "\n",
        "```\n",
        "10진수를 입력하세요>7\n",
        "111\n",
        "```\n",
        "\n"
      ],
      "metadata": {
        "id": "N0h7lGmxESZm"
      }
    },
    {
      "cell_type": "code",
      "execution_count": 75,
      "metadata": {
        "colab": {
          "base_uri": "https://localhost:8080/"
        },
        "id": "pxXHaDK4EMz-",
        "outputId": "5cf73732-6e38-4ff4-9458-06d7be7bcdde"
      },
      "outputs": [
        {
          "output_type": "stream",
          "name": "stdout",
          "text": [
            "10진수를 입력하세요7\n",
            "111\n"
          ]
        }
      ],
      "source": [
        "x=int(input(\"10진수를 입력하세요\"))#정수로 입력받음\n",
        "print(bin(x)[2:])#bin함수 앞에 이진수를 나타내는 문자제거"
      ]
    },
    {
      "cell_type": "markdown",
      "source": [
        "문제2) 아래 주어진 데이터에 대하여\n",
        "data=['하','흐','후','하','하','흐','후','하','흐','호']"
      ],
      "metadata": {
        "id": "mQS_jUUBGEj5"
      }
    },
    {
      "cell_type": "code",
      "source": [
        "data=['하','흐','후','하','하','흐','후','하','흐','호']\n",
        "print(\"{'하':\",data.count(\"하\"),\",'흐':\",data.count(\"흐\"),\",'후':\",data.count(\"후\"),\",'호':\",data.count(\"호\"),\"}\")#카운트 함수로 리스트 안의 문자세기"
      ],
      "metadata": {
        "colab": {
          "base_uri": "https://localhost:8080/"
        },
        "id": "dldtlk2CEn6C",
        "outputId": "74fd3dd7-9b48-4db3-f3e4-377c34f31339"
      },
      "execution_count": 21,
      "outputs": [
        {
          "output_type": "stream",
          "name": "stdout",
          "text": [
            "{'하': 4 ,'흐': 3 ,'후': 2 ,'호': 1 }\n"
          ]
        }
      ]
    },
    {
      "cell_type": "markdown",
      "source": [
        "##문제3) 다음과 같이 두 리스트를 매개변수로 입력받아ㅏ 벡터의 내적을 계산하고 결과를 출력하는 my_iprod함수를 작성하시오"
      ],
      "metadata": {
        "id": "6H1f7S_ZJNCq"
      }
    },
    {
      "cell_type": "code",
      "source": [
        "import numpy as np#넘파이 사용\n",
        "x = list(map(int,input().split()))#숫자(map)정수(int)로 구성된 list(list)생성, 공백으로 여러 입력을 구분함(split())\n",
        "y=list(map(int,input().split()))\n",
        "print(x)#입력받은 리스트를 확인합니다\n",
        "print(y)\n",
        "def my_iprod(x,y):\n",
        "    return np.dot(x,y)#넘파이의 내적계산 함수를 사용합니다\n",
        "print(\"벡터\",x,\"와\",y,\"의 내적은\",my_iprod(x,y),\"입니다\")"
      ],
      "metadata": {
        "colab": {
          "base_uri": "https://localhost:8080/"
        },
        "id": "CfuyTGPvaPS-",
        "outputId": "17901bd1-56bf-486f-e87f-33d17807b108"
      },
      "execution_count": 70,
      "outputs": [
        {
          "output_type": "stream",
          "name": "stdout",
          "text": [
            "1 2 3\n",
            "4 5 6\n",
            "[1, 2, 3]\n",
            "[4, 5, 6]\n",
            "벡터 [1, 2, 3] 와 [4, 5, 6] 의 내적은 32 입니다\n"
          ]
        }
      ]
    },
    {
      "cell_type": "markdown",
      "source": [
        "##문제4) 다음과 같이 임의의 개수의 수를 매개변수로 입력받아 통계수치를 출력하는 my_stat함수를 작성하시오"
      ],
      "metadata": {
        "id": "kuzoQmXpaufo"
      }
    },
    {
      "cell_type": "code",
      "source": [
        "import numpy as np\n",
        "x=list(map(int,input().split()))\n",
        "print(x)\n",
        "def my_stat(x):\n",
        "    return \"평균:\",np.min(x), \"최대값:\",np.max(x),\"총합:\",np.sum(x), \"평균:\",np.mean(x),\"중앙값:\",np.median(x)\n",
        "print(my_stat(x)) "
      ],
      "metadata": {
        "colab": {
          "base_uri": "https://localhost:8080/"
        },
        "id": "8Dow4fgAaRQJ",
        "outputId": "8efdad33-7a2c-4ed9-bc5c-a185372694fa"
      },
      "execution_count": 101,
      "outputs": [
        {
          "output_type": "stream",
          "name": "stdout",
          "text": [
            "1 2 3 4 5 6 7 8 9\n",
            "[1, 2, 3, 4, 5, 6, 7, 8, 9]\n",
            "('평균:', 1, '최대값:', 9, '총합:', 45, '평균:', 5.0, '중앙값:', 5.0)\n"
          ]
        }
      ]
    },
    {
      "cell_type": "markdown",
      "source": [
        "##문제5) 첫번째 매개변수로 문자를 입력받고, 나머지 매개변수로 임의의 수들을 입력받아 다음과 같이 출력하는 my_func함수를 작성하시오\n",
        "def function(*values,valueA,valueB):\n"
      ],
      "metadata": {
        "id": "cyzP0GWLbH42"
      }
    },
    {
      "cell_type": "code",
      "source": [],
      "metadata": {
        "id": "-4DTvc6ib9Ws"
      },
      "execution_count": 101,
      "outputs": []
    },
    {
      "cell_type": "code",
      "source": [],
      "metadata": {
        "id": "DJRVW1BmcAJb"
      },
      "execution_count": null,
      "outputs": []
    },
    {
      "cell_type": "markdown",
      "source": [],
      "metadata": {
        "id": "mKnk2nnLnsxX"
      }
    }
  ]
}